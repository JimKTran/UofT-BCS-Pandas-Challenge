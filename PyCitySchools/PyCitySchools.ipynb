{
 "cells": [
  {
   "cell_type": "code",
   "execution_count": 1,
   "metadata": {},
   "outputs": [],
   "source": [
    "# dependencies\n",
    "import pandas as pd\n",
    "import os"
   ]
  },
  {
   "cell_type": "code",
   "execution_count": 2,
   "metadata": {},
   "outputs": [],
   "source": [
    "# set file paths\n",
    "schoolsPath = os.path.join(\"Resources\", \"schools_complete.csv\")\n",
    "studentsPath = os.path.join(\"Resources\", \"students_complete.csv\")\n",
    "\n",
    "# read in csv files\n",
    "schools = pd.read_csv(schoolsPath)\n",
    "students = pd.read_csv(studentsPath)"
   ]
  },
  {
   "cell_type": "code",
   "execution_count": 3,
   "metadata": {},
   "outputs": [],
   "source": [
    "# combine both files into one csv dataset\n",
    "schoolsNstudents = pd.merge(students, schools, on=\"school_name\", how=\"left\")\n",
    "#schoolsNstudents"
   ]
  },
  {
   "cell_type": "code",
   "execution_count": 4,
   "metadata": {},
   "outputs": [
    {
     "data": {
      "text/plain": [
       "15"
      ]
     },
     "execution_count": 4,
     "metadata": {},
     "output_type": "execute_result"
    }
   ],
   "source": [
    "# calculate the total number of schools\n",
    "unique_schools = schoolsNstudents[\"school_name\"].unique()\n",
    "total_schools = len(unique_schools)\n",
    "total_schools"
   ]
  },
  {
   "cell_type": "code",
   "execution_count": 5,
   "metadata": {},
   "outputs": [
    {
     "data": {
      "text/plain": [
       "39170"
      ]
     },
     "execution_count": 5,
     "metadata": {},
     "output_type": "execute_result"
    }
   ],
   "source": [
    "# calculate the total number of students\n",
    "total_students = len(schoolsNstudents[\"student_name\"])\n",
    "total_students"
   ]
  },
  {
   "cell_type": "code",
   "execution_count": 6,
   "metadata": {},
   "outputs": [
    {
     "data": {
      "text/plain": [
       "24649428"
      ]
     },
     "execution_count": 6,
     "metadata": {},
     "output_type": "execute_result"
    }
   ],
   "source": [
    "# calculate the total budget\n",
    "total_budget = schools[\"budget\"].sum()\n",
    "total_budget"
   ]
  },
  {
   "cell_type": "code",
   "execution_count": 7,
   "metadata": {},
   "outputs": [
    {
     "data": {
      "text/plain": [
       "78.98537145774827"
      ]
     },
     "execution_count": 7,
     "metadata": {},
     "output_type": "execute_result"
    }
   ],
   "source": [
    "# calculate the average math score\n",
    "average_math = students[\"math_score\"].mean()\n",
    "average_math"
   ]
  },
  {
   "cell_type": "code",
   "execution_count": 8,
   "metadata": {},
   "outputs": [
    {
     "data": {
      "text/plain": [
       "81.87784018381414"
      ]
     },
     "execution_count": 8,
     "metadata": {},
     "output_type": "execute_result"
    }
   ],
   "source": [
    "# calculate the average reading score\n",
    "average_reading = students[\"reading_score\"].mean()\n",
    "average_reading"
   ]
  },
  {
   "cell_type": "code",
   "execution_count": 9,
   "metadata": {},
   "outputs": [
    {
     "data": {
      "text/plain": [
       "74.9808526933878"
      ]
     },
     "execution_count": 9,
     "metadata": {},
     "output_type": "execute_result"
    }
   ],
   "source": [
    "# calculate the percentage of students with a passing math score (70 or greater)\n",
    "math_greater_70 = students.loc[students[\"math_score\"] >= 70, :]\n",
    "math_passing_percent = (len(math_greater_70) / total_students)*100\n",
    "math_passing_percent"
   ]
  },
  {
   "cell_type": "code",
   "execution_count": 10,
   "metadata": {},
   "outputs": [
    {
     "data": {
      "text/plain": [
       "85.80546336482001"
      ]
     },
     "execution_count": 10,
     "metadata": {},
     "output_type": "execute_result"
    }
   ],
   "source": [
    "# calculate the percentage of students with a passing reading score (70 or greater)\n",
    "reading_greater_70 = students.loc[students[\"reading_score\"] >= 70, :]\n",
    "reading_passing_percent = (len(reading_greater_70) / total_students)*100\n",
    "reading_passing_percent"
   ]
  },
  {
   "cell_type": "code",
   "execution_count": 11,
   "metadata": {},
   "outputs": [
    {
     "data": {
      "text/plain": [
       "65.17232575950983"
      ]
     },
     "execution_count": 11,
     "metadata": {},
     "output_type": "execute_result"
    }
   ],
   "source": [
    "# calculate the percentage of students who passed math and reading (% Overall Passing)\n",
    "passing_math_reading = students.loc[(students[\"math_score\"] >= 70) & (students[\"reading_score\"] >= 70), :]\n",
    "overall_passing_percent = (len(passing_math_reading) / total_students)*100\n",
    "overall_passing_percent"
   ]
  },
  {
   "cell_type": "code",
   "execution_count": 12,
   "metadata": {},
   "outputs": [],
   "source": [
    "# Create a dataframe to hold the above results\n",
    "district_summary = pd.DataFrame({\"Total Schools\": [total_schools],\n",
    "                        \"Total Students\": [total_students],\n",
    "                        \"Total Budget\": [total_budget],\n",
    "                        \"Average Math Score\": [average_math],\n",
    "                        \"Average Reading Score\": [average_reading],\n",
    "                        \"% Passing Math\": [math_passing_percent],\n",
    "                        \"% Passing Reading\": [reading_passing_percent],\n",
    "                        \"% Overall Passing\": [overall_passing_percent],\n",
    "                        })"
   ]
  },
  {
   "cell_type": "code",
   "execution_count": 13,
   "metadata": {
    "scrolled": true
   },
   "outputs": [],
   "source": [
    "# converting integers to float for formatting\n",
    "#district_summary[\"Total Students\"] = district_summary[\"Total Students\"].astype(float)\n",
    "#district_summary[\"Total Budget\"] = district_summary[\"Total Budget\"].astype(float)"
   ]
  },
  {
   "cell_type": "code",
   "execution_count": 14,
   "metadata": {},
   "outputs": [
    {
     "data": {
      "text/html": [
       "<div>\n",
       "<style scoped>\n",
       "    .dataframe tbody tr th:only-of-type {\n",
       "        vertical-align: middle;\n",
       "    }\n",
       "\n",
       "    .dataframe tbody tr th {\n",
       "        vertical-align: top;\n",
       "    }\n",
       "\n",
       "    .dataframe thead th {\n",
       "        text-align: right;\n",
       "    }\n",
       "</style>\n",
       "<table border=\"1\" class=\"dataframe\">\n",
       "  <thead>\n",
       "    <tr style=\"text-align: right;\">\n",
       "      <th></th>\n",
       "      <th>Total Schools</th>\n",
       "      <th>Total Students</th>\n",
       "      <th>Total Budget</th>\n",
       "      <th>Average Math Score</th>\n",
       "      <th>Average Reading Score</th>\n",
       "      <th>% Passing Math</th>\n",
       "      <th>% Passing Reading</th>\n",
       "      <th>% Overall Passing</th>\n",
       "    </tr>\n",
       "  </thead>\n",
       "  <tbody>\n",
       "    <tr>\n",
       "      <th>0</th>\n",
       "      <td>15</td>\n",
       "      <td>39170</td>\n",
       "      <td>24649428</td>\n",
       "      <td>78.985371</td>\n",
       "      <td>81.87784</td>\n",
       "      <td>74.980853</td>\n",
       "      <td>85.805463</td>\n",
       "      <td>65.172326</td>\n",
       "    </tr>\n",
       "  </tbody>\n",
       "</table>\n",
       "</div>"
      ],
      "text/plain": [
       "   Total Schools  Total Students  Total Budget  Average Math Score  \\\n",
       "0             15           39170      24649428           78.985371   \n",
       "\n",
       "   Average Reading Score  % Passing Math  % Passing Reading  % Overall Passing  \n",
       "0               81.87784       74.980853          85.805463          65.172326  "
      ]
     },
     "execution_count": 14,
     "metadata": {},
     "output_type": "execute_result"
    }
   ],
   "source": [
    "# formatting for better read of district summary\n",
    "#district_summary[\"Total Students\"] = district_summary[\"Total Students\"].map('{:,.0f}'.format)\n",
    "#district_summary[\"Total Budget\"] = district_summary[\"Total Budget\"].map('${:,.2f}'.format)\n",
    "district_summary"
   ]
  },
  {
   "cell_type": "code",
   "execution_count": 15,
   "metadata": {},
   "outputs": [
    {
     "data": {
      "text/html": [
       "<div>\n",
       "<style scoped>\n",
       "    .dataframe tbody tr th:only-of-type {\n",
       "        vertical-align: middle;\n",
       "    }\n",
       "\n",
       "    .dataframe tbody tr th {\n",
       "        vertical-align: top;\n",
       "    }\n",
       "\n",
       "    .dataframe thead th {\n",
       "        text-align: right;\n",
       "    }\n",
       "</style>\n",
       "<table border=\"1\" class=\"dataframe\">\n",
       "  <thead>\n",
       "    <tr style=\"text-align: right;\">\n",
       "      <th></th>\n",
       "      <th>School ID</th>\n",
       "      <th>school_name</th>\n",
       "      <th>type</th>\n",
       "      <th>size</th>\n",
       "      <th>budget</th>\n",
       "      <th>Per Student Budget</th>\n",
       "    </tr>\n",
       "  </thead>\n",
       "  <tbody>\n",
       "    <tr>\n",
       "      <th>7</th>\n",
       "      <td>7</td>\n",
       "      <td>Bailey High School</td>\n",
       "      <td>District</td>\n",
       "      <td>4976</td>\n",
       "      <td>3124928</td>\n",
       "      <td>628.0</td>\n",
       "    </tr>\n",
       "    <tr>\n",
       "      <th>6</th>\n",
       "      <td>6</td>\n",
       "      <td>Cabrera High School</td>\n",
       "      <td>Charter</td>\n",
       "      <td>1858</td>\n",
       "      <td>1081356</td>\n",
       "      <td>582.0</td>\n",
       "    </tr>\n",
       "    <tr>\n",
       "      <th>1</th>\n",
       "      <td>1</td>\n",
       "      <td>Figueroa High School</td>\n",
       "      <td>District</td>\n",
       "      <td>2949</td>\n",
       "      <td>1884411</td>\n",
       "      <td>639.0</td>\n",
       "    </tr>\n",
       "    <tr>\n",
       "      <th>13</th>\n",
       "      <td>13</td>\n",
       "      <td>Ford High School</td>\n",
       "      <td>District</td>\n",
       "      <td>2739</td>\n",
       "      <td>1763916</td>\n",
       "      <td>644.0</td>\n",
       "    </tr>\n",
       "    <tr>\n",
       "      <th>4</th>\n",
       "      <td>4</td>\n",
       "      <td>Griffin High School</td>\n",
       "      <td>Charter</td>\n",
       "      <td>1468</td>\n",
       "      <td>917500</td>\n",
       "      <td>625.0</td>\n",
       "    </tr>\n",
       "    <tr>\n",
       "      <th>3</th>\n",
       "      <td>3</td>\n",
       "      <td>Hernandez High School</td>\n",
       "      <td>District</td>\n",
       "      <td>4635</td>\n",
       "      <td>3022020</td>\n",
       "      <td>652.0</td>\n",
       "    </tr>\n",
       "    <tr>\n",
       "      <th>8</th>\n",
       "      <td>8</td>\n",
       "      <td>Holden High School</td>\n",
       "      <td>Charter</td>\n",
       "      <td>427</td>\n",
       "      <td>248087</td>\n",
       "      <td>581.0</td>\n",
       "    </tr>\n",
       "    <tr>\n",
       "      <th>0</th>\n",
       "      <td>0</td>\n",
       "      <td>Huang High School</td>\n",
       "      <td>District</td>\n",
       "      <td>2917</td>\n",
       "      <td>1910635</td>\n",
       "      <td>655.0</td>\n",
       "    </tr>\n",
       "    <tr>\n",
       "      <th>12</th>\n",
       "      <td>12</td>\n",
       "      <td>Johnson High School</td>\n",
       "      <td>District</td>\n",
       "      <td>4761</td>\n",
       "      <td>3094650</td>\n",
       "      <td>650.0</td>\n",
       "    </tr>\n",
       "    <tr>\n",
       "      <th>9</th>\n",
       "      <td>9</td>\n",
       "      <td>Pena High School</td>\n",
       "      <td>Charter</td>\n",
       "      <td>962</td>\n",
       "      <td>585858</td>\n",
       "      <td>609.0</td>\n",
       "    </tr>\n",
       "    <tr>\n",
       "      <th>11</th>\n",
       "      <td>11</td>\n",
       "      <td>Rodriguez High School</td>\n",
       "      <td>District</td>\n",
       "      <td>3999</td>\n",
       "      <td>2547363</td>\n",
       "      <td>637.0</td>\n",
       "    </tr>\n",
       "    <tr>\n",
       "      <th>2</th>\n",
       "      <td>2</td>\n",
       "      <td>Shelton High School</td>\n",
       "      <td>Charter</td>\n",
       "      <td>1761</td>\n",
       "      <td>1056600</td>\n",
       "      <td>600.0</td>\n",
       "    </tr>\n",
       "    <tr>\n",
       "      <th>14</th>\n",
       "      <td>14</td>\n",
       "      <td>Thomas High School</td>\n",
       "      <td>Charter</td>\n",
       "      <td>1635</td>\n",
       "      <td>1043130</td>\n",
       "      <td>638.0</td>\n",
       "    </tr>\n",
       "    <tr>\n",
       "      <th>5</th>\n",
       "      <td>5</td>\n",
       "      <td>Wilson High School</td>\n",
       "      <td>Charter</td>\n",
       "      <td>2283</td>\n",
       "      <td>1319574</td>\n",
       "      <td>578.0</td>\n",
       "    </tr>\n",
       "    <tr>\n",
       "      <th>10</th>\n",
       "      <td>10</td>\n",
       "      <td>Wright High School</td>\n",
       "      <td>Charter</td>\n",
       "      <td>1800</td>\n",
       "      <td>1049400</td>\n",
       "      <td>583.0</td>\n",
       "    </tr>\n",
       "  </tbody>\n",
       "</table>\n",
       "</div>"
      ],
      "text/plain": [
       "    School ID            school_name      type  size   budget  \\\n",
       "7           7     Bailey High School  District  4976  3124928   \n",
       "6           6    Cabrera High School   Charter  1858  1081356   \n",
       "1           1   Figueroa High School  District  2949  1884411   \n",
       "13         13       Ford High School  District  2739  1763916   \n",
       "4           4    Griffin High School   Charter  1468   917500   \n",
       "3           3  Hernandez High School  District  4635  3022020   \n",
       "8           8     Holden High School   Charter   427   248087   \n",
       "0           0      Huang High School  District  2917  1910635   \n",
       "12         12    Johnson High School  District  4761  3094650   \n",
       "9           9       Pena High School   Charter   962   585858   \n",
       "11         11  Rodriguez High School  District  3999  2547363   \n",
       "2           2    Shelton High School   Charter  1761  1056600   \n",
       "14         14     Thomas High School   Charter  1635  1043130   \n",
       "5           5     Wilson High School   Charter  2283  1319574   \n",
       "10         10     Wright High School   Charter  1800  1049400   \n",
       "\n",
       "    Per Student Budget  \n",
       "7                628.0  \n",
       "6                582.0  \n",
       "1                639.0  \n",
       "13               644.0  \n",
       "4                625.0  \n",
       "3                652.0  \n",
       "8                581.0  \n",
       "0                655.0  \n",
       "12               650.0  \n",
       "9                609.0  \n",
       "11               637.0  \n",
       "2                600.0  \n",
       "14               638.0  \n",
       "5                578.0  \n",
       "10               583.0  "
      ]
     },
     "execution_count": 15,
     "metadata": {},
     "output_type": "execute_result"
    }
   ],
   "source": [
    "# calculate budget per student by schools\n",
    "schools[\"Per Student Budget\"] = schools[\"budget\"] / schools[\"size\"]\n",
    "schools = schools.sort_values(\"school_name\", ascending=True)\n",
    "schools[\"Per Student Budget\"] = schools[\"Per Student Budget\"].astype(float)\n",
    "schools"
   ]
  },
  {
   "cell_type": "code",
   "execution_count": 16,
   "metadata": {},
   "outputs": [],
   "source": [
    "# calculate the average math scores by schools\n",
    "math_score_per_school = students.set_index(\"school_name\").groupby(\"school_name\") [\"math_score\"].sum()\n",
    "students_per_school = students.set_index(\"school_name\").groupby(\"school_name\")[\"math_score\"].count()\n",
    "average_math_score_df = math_score_per_school / students_per_school\n",
    "#average_math_score_df"
   ]
  },
  {
   "cell_type": "code",
   "execution_count": 17,
   "metadata": {},
   "outputs": [],
   "source": [
    "# calculate the average reading scores by schools\n",
    "reading_score_per_school = students.set_index(\"school_name\").groupby(\"school_name\") [\"reading_score\"].sum()\n",
    "average_reading_score_df = reading_score_per_school / students_per_school\n",
    "#average_reading_score_df"
   ]
  },
  {
   "cell_type": "code",
   "execution_count": 18,
   "metadata": {},
   "outputs": [],
   "source": [
    "# calculate the percentage of students with a passing math score (70 or greater) per school\n",
    "math_greater_70_per_school = students.loc[students[\"math_score\"] >= 70, :]\n",
    "group_math_greater_70_per_school = math_greater_70_per_school.groupby(\"school_name\") [\"math_score\"].count()\n",
    "math_passing_pecent_per_school_df = (group_math_greater_70_per_school / students_per_school) * 100\n",
    "#math_passing_pecent_per_school_df"
   ]
  },
  {
   "cell_type": "code",
   "execution_count": 19,
   "metadata": {},
   "outputs": [],
   "source": [
    "# calculate the percentage of students with a passing reading score (70 or greater) per school\n",
    "reading_greater_70_per_school = students.loc[students[\"reading_score\"] >= 70, :]\n",
    "group_reading_greater_70_per_school = reading_greater_70_per_school.set_index(\"school_name\").groupby(\"school_name\") [\"reading_score\"].count()\n",
    "reading_passing_pecent_per_school_df = (group_reading_greater_70_per_school / students_per_school) * 100\n",
    "#reading_passing_pecent_per_school_df"
   ]
  },
  {
   "cell_type": "code",
   "execution_count": 20,
   "metadata": {},
   "outputs": [],
   "source": [
    "# calculate the percentage of students who passed math and reading (% Overall Passing) per school\n",
    "passing_math_reading_per_school = students.loc[(students[\"math_score\"] >= 70) & (students[\"reading_score\"] >= 70), :]\n",
    "group_passing_math_reading_per_school = passing_math_reading_per_school.groupby(\"school_name\") [\"school_name\"].count()\n",
    "overall_passing_percent_per_school_df = (group_passing_math_reading_per_school / students_per_school)*100\n",
    "#overall_passing_percent_per_school_df"
   ]
  },
  {
   "cell_type": "code",
   "execution_count": 21,
   "metadata": {},
   "outputs": [],
   "source": [
    "# Collect all require student marks df and place in a summary dataframe\n",
    "student_marks_summary_df = pd.DataFrame({\"Average Math Score\": average_math_score_df,\n",
    "                                         \"Average Reading Score\": average_reading_score_df,\n",
    "                                         \"% Passing Math\": math_passing_pecent_per_school_df,\n",
    "                                         \"% Passing Reading\": reading_passing_pecent_per_school_df,\n",
    "                                         \"% Overall Passing\": overall_passing_percent_per_school_df\n",
    "                                          })\n",
    "#student_marks_summary_df"
   ]
  },
  {
   "cell_type": "code",
   "execution_count": 41,
   "metadata": {},
   "outputs": [],
   "source": [
    "# merge the schools and the student marks summary for school summary output; along with viewable formats, text alignments and hide index\n",
    "school_summary = pd.merge(schools, student_marks_summary_df, on=\"school_name\", how=\"left\")\n",
    "del school_summary[\"School ID\"]\n",
    "school_summary = school_summary.rename(columns={\"school_name\": \"School Name\", \n",
    "                                                \"type\": \"School Type\",\n",
    "                                                \"size\": \"Total Students\",\n",
    "                                                \"budget\": \"Total School Budget\"                                    \n",
    "                                                })\n",
    "#school_summary[\"School Type\"] = school_summary[\"School Type\"].astype(float)\n",
    "#school_summary[\"Total Students\"] = school_summary[\"Total Students\"].astype(float)\n",
    "#school_summary[\"Per Student Budget\"] = school_summary[\"Per Student Budget\"].astype(float)\n",
    "\n",
    "#school_summary[\"Total Students\"] = school_summary[\"Total Students\"].map('{:,.0f}'.format)\n",
    "school_summary[\"Total School Budget\"] = school_summary[\"Total School Budget\"].map('${:,.2f}'.format)\n",
    "#school_summary[\"Per Student Budget\"] = school_summary[\"Per Student Budget\"].map('${:.2f}'.format)\n",
    "#school_summary = school_summary.style.set_properties(**{'text-align': 'left'}).set_table_styles([ dict(selector='th', props=[('text-align', 'left')] )]).hide_index()\n",
    "#school_summary"
   ]
  },
  {
   "cell_type": "code",
   "execution_count": 23,
   "metadata": {},
   "outputs": [],
   "source": [
    "# Top 5 Performing Schools (By % Overall Passing)\n",
    "school_summary_sort = school_summary.sort_values(\"% Overall Passing\", ascending=False)"
   ]
  },
  {
   "cell_type": "code",
   "execution_count": 24,
   "metadata": {},
   "outputs": [],
   "source": [
    "#Bottom 5 Performing Schools (By % Overall Passing)\n",
    "school_summary_sort = school_summary.sort_values(\"% Overall Passing\", ascending=True)"
   ]
  },
  {
   "cell_type": "code",
   "execution_count": 25,
   "metadata": {},
   "outputs": [],
   "source": [
    "# Math Scores by Grade\n",
    "# Create a table that lists the average Math Score for students of each grade level (9th, 10th, 11th, 12th) at each school.\n",
    "grade9_math_scores = (students.loc[students[\"grade\"] == \"9th\"]).groupby(\"school_name\")[\"math_score\"].mean()\n",
    "grade10_math_scores = (students.loc[students[\"grade\"] == \"10th\"]).groupby(\"school_name\")[\"math_score\"].mean()\n",
    "grade11_math_scores = (students.loc[students[\"grade\"] == \"11th\"]).groupby(\"school_name\")[\"math_score\"].mean()\n",
    "grade12_math_scores = (students.loc[students[\"grade\"] == \"12th\"]).groupby(\"school_name\")[\"math_score\"].mean()\n",
    "#grade12_math_scores"
   ]
  },
  {
   "cell_type": "code",
   "execution_count": 26,
   "metadata": {},
   "outputs": [],
   "source": [
    "# Collect all require student math marks df by grade by school and place in a summary dataframe\n",
    "math_scores_per_grade_summary_df = pd.DataFrame({\"Grade 9 Math Avg\": grade9_math_scores,\n",
    "                                         \"Grade 10 Math Avg\": grade10_math_scores,\n",
    "                                         \"Grade 11 Math Avg\": grade11_math_scores,\n",
    "                                         \"Grade 12 Math Avg\": grade12_math_scores\n",
    "                                          })\n",
    "#math_scores_per_grade_summary_df"
   ]
  },
  {
   "cell_type": "code",
   "execution_count": 27,
   "metadata": {},
   "outputs": [],
   "source": [
    "# Reading Scores by Grade\n",
    "# Create a table that lists the average Reading Score for students of each grade level (9th, 10th, 11th, 12th) at each school.\n",
    "grade9_reading_scores = (students.loc[students[\"grade\"] == \"9th\"]).groupby(\"school_name\")[\"reading_score\"].mean()\n",
    "grade10_reading_scores = (students.loc[students[\"grade\"] == \"10th\"]).groupby(\"school_name\")[\"reading_score\"].mean()\n",
    "grade11_reading_scores = (students.loc[students[\"grade\"] == \"11th\"]).groupby(\"school_name\")[\"reading_score\"].mean()\n",
    "grade12_reading_scores = (students.loc[students[\"grade\"] == \"12th\"]).groupby(\"school_name\")[\"reading_score\"].mean()\n",
    "#grade12_reading_scores"
   ]
  },
  {
   "cell_type": "code",
   "execution_count": 28,
   "metadata": {},
   "outputs": [],
   "source": [
    "# Collect all require student reading marks df by grade by school and place in a summary dataframe\n",
    "reading_scores_per_grade_summary_df = pd.DataFrame({\"Grade 9 Reading Avg\": grade9_reading_scores,\n",
    "                                         \"Grade 10 Avg Reading Avg\": grade10_reading_scores,\n",
    "                                         \"Grade 11 Avg Reading Avg\": grade11_reading_scores,\n",
    "                                         \"Grade 12 Avg Reading Avg\": grade12_reading_scores\n",
    "                                          })\n",
    "#reading_scores_per_grade_summary_df"
   ]
  },
  {
   "cell_type": "code",
   "execution_count": 29,
   "metadata": {},
   "outputs": [
    {
     "name": "stdout",
     "output_type": "stream",
     "text": [
      "578.0\n",
      "655.0\n"
     ]
    }
   ],
   "source": [
    "# check range of values in column\n",
    "print(school_summary[\"Per Student Budget\"].min())\n",
    "print(school_summary[\"Per Student Budget\"].max())"
   ]
  },
  {
   "cell_type": "code",
   "execution_count": 30,
   "metadata": {},
   "outputs": [],
   "source": [
    "# create bins and labels as bins for scores based on spending ranges\n",
    "bins = [0, 580, 595, 610, 625, 640, 655]\n",
    "group_labels = [\"$0-$579\", \"$580-$594\", \"$595-$609\", \"$610-$624\", \"$625-$639\", \"$640-$656\"]"
   ]
  },
  {
   "cell_type": "code",
   "execution_count": 31,
   "metadata": {},
   "outputs": [
    {
     "data": {
      "text/plain": [
       "0    $625-$639\n",
       "1    $580-$594\n",
       "2    $625-$639\n",
       "3    $640-$656\n",
       "4    $610-$624\n",
       "Name: Per Student Budget, dtype: category\n",
       "Categories (6, object): [$0-$579 < $580-$594 < $595-$609 < $610-$624 < $625-$639 < $640-$656]"
      ]
     },
     "execution_count": 31,
     "metadata": {},
     "output_type": "execute_result"
    }
   ],
   "source": [
    "# cut Per Student Budget and place into bins\n",
    "pd.cut(school_summary[\"Per Student Budget\"], bins, labels=group_labels).head()"
   ]
  },
  {
   "cell_type": "code",
   "execution_count": 32,
   "metadata": {},
   "outputs": [
    {
     "data": {
      "text/html": [
       "<div>\n",
       "<style scoped>\n",
       "    .dataframe tbody tr th:only-of-type {\n",
       "        vertical-align: middle;\n",
       "    }\n",
       "\n",
       "    .dataframe tbody tr th {\n",
       "        vertical-align: top;\n",
       "    }\n",
       "\n",
       "    .dataframe thead th {\n",
       "        text-align: right;\n",
       "    }\n",
       "</style>\n",
       "<table border=\"1\" class=\"dataframe\">\n",
       "  <thead>\n",
       "    <tr style=\"text-align: right;\">\n",
       "      <th></th>\n",
       "      <th>School Name</th>\n",
       "      <th>School Type</th>\n",
       "      <th>Total Students</th>\n",
       "      <th>Total School Budget</th>\n",
       "      <th>Per Student Budget</th>\n",
       "      <th>Average Math Score</th>\n",
       "      <th>Average Reading Score</th>\n",
       "      <th>% Passing Math</th>\n",
       "      <th>% Passing Reading</th>\n",
       "      <th>% Overall Passing</th>\n",
       "      <th>Spending Ranges</th>\n",
       "    </tr>\n",
       "  </thead>\n",
       "  <tbody>\n",
       "    <tr>\n",
       "      <th>0</th>\n",
       "      <td>Bailey High School</td>\n",
       "      <td>District</td>\n",
       "      <td>4976</td>\n",
       "      <td>$3,124,928.00</td>\n",
       "      <td>628.0</td>\n",
       "      <td>77.048432</td>\n",
       "      <td>81.033963</td>\n",
       "      <td>66.680064</td>\n",
       "      <td>81.933280</td>\n",
       "      <td>54.642283</td>\n",
       "      <td>$625-$639</td>\n",
       "    </tr>\n",
       "    <tr>\n",
       "      <th>1</th>\n",
       "      <td>Cabrera High School</td>\n",
       "      <td>Charter</td>\n",
       "      <td>1858</td>\n",
       "      <td>$1,081,356.00</td>\n",
       "      <td>582.0</td>\n",
       "      <td>83.061895</td>\n",
       "      <td>83.975780</td>\n",
       "      <td>94.133477</td>\n",
       "      <td>97.039828</td>\n",
       "      <td>91.334769</td>\n",
       "      <td>$580-$594</td>\n",
       "    </tr>\n",
       "    <tr>\n",
       "      <th>2</th>\n",
       "      <td>Figueroa High School</td>\n",
       "      <td>District</td>\n",
       "      <td>2949</td>\n",
       "      <td>$1,884,411.00</td>\n",
       "      <td>639.0</td>\n",
       "      <td>76.711767</td>\n",
       "      <td>81.158020</td>\n",
       "      <td>65.988471</td>\n",
       "      <td>80.739234</td>\n",
       "      <td>53.204476</td>\n",
       "      <td>$625-$639</td>\n",
       "    </tr>\n",
       "    <tr>\n",
       "      <th>3</th>\n",
       "      <td>Ford High School</td>\n",
       "      <td>District</td>\n",
       "      <td>2739</td>\n",
       "      <td>$1,763,916.00</td>\n",
       "      <td>644.0</td>\n",
       "      <td>77.102592</td>\n",
       "      <td>80.746258</td>\n",
       "      <td>68.309602</td>\n",
       "      <td>79.299014</td>\n",
       "      <td>54.289887</td>\n",
       "      <td>$640-$656</td>\n",
       "    </tr>\n",
       "    <tr>\n",
       "      <th>4</th>\n",
       "      <td>Griffin High School</td>\n",
       "      <td>Charter</td>\n",
       "      <td>1468</td>\n",
       "      <td>$917,500.00</td>\n",
       "      <td>625.0</td>\n",
       "      <td>83.351499</td>\n",
       "      <td>83.816757</td>\n",
       "      <td>93.392371</td>\n",
       "      <td>97.138965</td>\n",
       "      <td>90.599455</td>\n",
       "      <td>$610-$624</td>\n",
       "    </tr>\n",
       "  </tbody>\n",
       "</table>\n",
       "</div>"
      ],
      "text/plain": [
       "            School Name School Type  Total Students Total School Budget  \\\n",
       "0    Bailey High School    District            4976       $3,124,928.00   \n",
       "1   Cabrera High School     Charter            1858       $1,081,356.00   \n",
       "2  Figueroa High School    District            2949       $1,884,411.00   \n",
       "3      Ford High School    District            2739       $1,763,916.00   \n",
       "4   Griffin High School     Charter            1468         $917,500.00   \n",
       "\n",
       "   Per Student Budget  Average Math Score  Average Reading Score  \\\n",
       "0               628.0           77.048432              81.033963   \n",
       "1               582.0           83.061895              83.975780   \n",
       "2               639.0           76.711767              81.158020   \n",
       "3               644.0           77.102592              80.746258   \n",
       "4               625.0           83.351499              83.816757   \n",
       "\n",
       "   % Passing Math  % Passing Reading  % Overall Passing Spending Ranges  \n",
       "0       66.680064          81.933280          54.642283       $625-$639  \n",
       "1       94.133477          97.039828          91.334769       $580-$594  \n",
       "2       65.988471          80.739234          53.204476       $625-$639  \n",
       "3       68.309602          79.299014          54.289887       $640-$656  \n",
       "4       93.392371          97.138965          90.599455       $610-$624  "
      ]
     },
     "execution_count": 32,
     "metadata": {},
     "output_type": "execute_result"
    }
   ],
   "source": [
    "# Place the data series into a new column inside of the DataFrame\n",
    "school_summary[\"Spending Ranges\"] = pd.cut(school_summary[\"Per Student Budget\"], bins, labels=group_labels)\n",
    "#school_summary"
   ]
  },
  {
   "cell_type": "code",
   "execution_count": 33,
   "metadata": {},
   "outputs": [
    {
     "name": "stdout",
     "output_type": "stream",
     "text": [
      "Spending Ranges\n",
      "$0-$579      1\n",
      "$580-$594    3\n",
      "$595-$609    2\n",
      "$610-$624    1\n",
      "$625-$639    4\n",
      "$640-$656    4\n",
      "Name: Average Math Score, dtype: int64\n"
     ]
    },
    {
     "data": {
      "text/html": [
       "<div>\n",
       "<style scoped>\n",
       "    .dataframe tbody tr th:only-of-type {\n",
       "        vertical-align: middle;\n",
       "    }\n",
       "\n",
       "    .dataframe tbody tr th {\n",
       "        vertical-align: top;\n",
       "    }\n",
       "\n",
       "    .dataframe thead th {\n",
       "        text-align: right;\n",
       "    }\n",
       "</style>\n",
       "<table border=\"1\" class=\"dataframe\">\n",
       "  <thead>\n",
       "    <tr style=\"text-align: right;\">\n",
       "      <th></th>\n",
       "      <th>Average Math Score</th>\n",
       "      <th>Average Reading Score</th>\n",
       "      <th>% Passing Math</th>\n",
       "      <th>% Passing Reading</th>\n",
       "      <th>% Overall Passing</th>\n",
       "    </tr>\n",
       "    <tr>\n",
       "      <th>Spending Ranges</th>\n",
       "      <th></th>\n",
       "      <th></th>\n",
       "      <th></th>\n",
       "      <th></th>\n",
       "      <th></th>\n",
       "    </tr>\n",
       "  </thead>\n",
       "  <tbody>\n",
       "    <tr>\n",
       "      <th>$0-$579</th>\n",
       "      <td>83.274201</td>\n",
       "      <td>83.989488</td>\n",
       "      <td>93.867718</td>\n",
       "      <td>96.539641</td>\n",
       "      <td>90.582567</td>\n",
       "    </tr>\n",
       "    <tr>\n",
       "      <th>$580-$594</th>\n",
       "      <td>83.515798</td>\n",
       "      <td>83.915256</td>\n",
       "      <td>93.324222</td>\n",
       "      <td>96.634622</td>\n",
       "      <td>90.298423</td>\n",
       "    </tr>\n",
       "    <tr>\n",
       "      <th>$595-$609</th>\n",
       "      <td>83.599686</td>\n",
       "      <td>83.885211</td>\n",
       "      <td>94.230858</td>\n",
       "      <td>95.900287</td>\n",
       "      <td>90.216324</td>\n",
       "    </tr>\n",
       "    <tr>\n",
       "      <th>$610-$624</th>\n",
       "      <td>83.351499</td>\n",
       "      <td>83.816757</td>\n",
       "      <td>93.392371</td>\n",
       "      <td>97.138965</td>\n",
       "      <td>90.599455</td>\n",
       "    </tr>\n",
       "    <tr>\n",
       "      <th>$625-$639</th>\n",
       "      <td>78.505315</td>\n",
       "      <td>81.696400</td>\n",
       "      <td>73.076824</td>\n",
       "      <td>85.050359</td>\n",
       "      <td>62.945755</td>\n",
       "    </tr>\n",
       "    <tr>\n",
       "      <th>$640-$656</th>\n",
       "      <td>77.023555</td>\n",
       "      <td>80.957446</td>\n",
       "      <td>66.701010</td>\n",
       "      <td>80.675217</td>\n",
       "      <td>53.717613</td>\n",
       "    </tr>\n",
       "  </tbody>\n",
       "</table>\n",
       "</div>"
      ],
      "text/plain": [
       "                 Average Math Score  Average Reading Score  % Passing Math  \\\n",
       "Spending Ranges                                                              \n",
       "$0-$579                   83.274201              83.989488       93.867718   \n",
       "$580-$594                 83.515798              83.915256       93.324222   \n",
       "$595-$609                 83.599686              83.885211       94.230858   \n",
       "$610-$624                 83.351499              83.816757       93.392371   \n",
       "$625-$639                 78.505315              81.696400       73.076824   \n",
       "$640-$656                 77.023555              80.957446       66.701010   \n",
       "\n",
       "                 % Passing Reading  % Overall Passing  \n",
       "Spending Ranges                                        \n",
       "$0-$579                  96.539641          90.582567  \n",
       "$580-$594                96.634622          90.298423  \n",
       "$595-$609                95.900287          90.216324  \n",
       "$610-$624                97.138965          90.599455  \n",
       "$625-$639                85.050359          62.945755  \n",
       "$640-$656                80.675217          53.717613  "
      ]
     },
     "execution_count": 33,
     "metadata": {},
     "output_type": "execute_result"
    }
   ],
   "source": [
    "# Create a GroupBy object based upon \"Spending Ranges\"\n",
    "school_summary_group = school_summary.groupby(\"Spending Ranges\")\n",
    "\n",
    "# Find how many rows fall into each bin\n",
    "print(school_summary_group[\"Average Math Score\"].count())\n",
    "\n",
    "# Get the average of each column within the GroupBy object\n",
    "school_summary_group[[\"Average Math Score\", \n",
    "                      \"Average Reading Score\", \n",
    "                      \"% Passing Math\", \n",
    "                      \"% Passing Reading\", \n",
    "                      \"% Overall Passing\"]].mean()"
   ]
  },
  {
   "cell_type": "code",
   "execution_count": 34,
   "metadata": {},
   "outputs": [
    {
     "name": "stdout",
     "output_type": "stream",
     "text": [
      "427\n",
      "4976\n"
     ]
    }
   ],
   "source": [
    "# check range of values in column\n",
    "print(school_summary[\"Total Students\"].min())\n",
    "print(school_summary[\"Total Students\"].max())"
   ]
  },
  {
   "cell_type": "code",
   "execution_count": 35,
   "metadata": {},
   "outputs": [],
   "source": [
    "# create bins and labels as bins for scores based on school size\n",
    "bins = [0, 1000, 3000, 5000]\n",
    "group_labels = [\"Small (0-1000)\", \"Medium (1000-2500)\", \"Large (2500-5000)\"]"
   ]
  },
  {
   "cell_type": "code",
   "execution_count": 36,
   "metadata": {},
   "outputs": [
    {
     "data": {
      "text/plain": [
       "0     Large (2500-5000)\n",
       "1    Medium (1000-2500)\n",
       "2    Medium (1000-2500)\n",
       "3    Medium (1000-2500)\n",
       "4    Medium (1000-2500)\n",
       "Name: Total Students, dtype: category\n",
       "Categories (3, object): [Small (0-1000) < Medium (1000-2500) < Large (2500-5000)]"
      ]
     },
     "execution_count": 36,
     "metadata": {},
     "output_type": "execute_result"
    }
   ],
   "source": [
    "# cut Total Students and place into bins\n",
    "pd.cut(school_summary[\"Total Students\"], bins, labels=group_labels).head()\n",
    "#pd.cut(np.array([0, 1000, 2000, 3000, 5000]),3, labels=[\"Small\", \"Medium\", \"Large\"])"
   ]
  },
  {
   "cell_type": "code",
   "execution_count": 37,
   "metadata": {},
   "outputs": [],
   "source": [
    "# Place the data series into a new column inside of the DataFrame\n",
    "school_summary[\"School Size Ranges\"] = pd.cut(school_summary[\"Total Students\"], bins, labels=group_labels)\n",
    "#school_summary"
   ]
  },
  {
   "cell_type": "code",
   "execution_count": 38,
   "metadata": {},
   "outputs": [
    {
     "name": "stdout",
     "output_type": "stream",
     "text": [
      "School Size Ranges\n",
      "Small (0-1000)        2\n",
      "Medium (1000-2500)    9\n",
      "Large (2500-5000)     4\n",
      "Name: Average Math Score, dtype: int64\n"
     ]
    },
    {
     "data": {
      "text/html": [
       "<div>\n",
       "<style scoped>\n",
       "    .dataframe tbody tr th:only-of-type {\n",
       "        vertical-align: middle;\n",
       "    }\n",
       "\n",
       "    .dataframe tbody tr th {\n",
       "        vertical-align: top;\n",
       "    }\n",
       "\n",
       "    .dataframe thead th {\n",
       "        text-align: right;\n",
       "    }\n",
       "</style>\n",
       "<table border=\"1\" class=\"dataframe\">\n",
       "  <thead>\n",
       "    <tr style=\"text-align: right;\">\n",
       "      <th></th>\n",
       "      <th>Average Math Score</th>\n",
       "      <th>Average Reading Score</th>\n",
       "      <th>% Passing Math</th>\n",
       "      <th>% Passing Reading</th>\n",
       "      <th>% Overall Passing</th>\n",
       "    </tr>\n",
       "    <tr>\n",
       "      <th>School Size Ranges</th>\n",
       "      <th></th>\n",
       "      <th></th>\n",
       "      <th></th>\n",
       "      <th></th>\n",
       "      <th></th>\n",
       "    </tr>\n",
       "  </thead>\n",
       "  <tbody>\n",
       "    <tr>\n",
       "      <th>Small (0-1000)</th>\n",
       "      <td>83.821598</td>\n",
       "      <td>83.929843</td>\n",
       "      <td>93.550225</td>\n",
       "      <td>96.099437</td>\n",
       "      <td>89.883853</td>\n",
       "    </tr>\n",
       "    <tr>\n",
       "      <th>Medium (1000-2500)</th>\n",
       "      <td>81.176821</td>\n",
       "      <td>82.933187</td>\n",
       "      <td>84.649798</td>\n",
       "      <td>91.316412</td>\n",
       "      <td>78.299832</td>\n",
       "    </tr>\n",
       "    <tr>\n",
       "      <th>Large (2500-5000)</th>\n",
       "      <td>77.063340</td>\n",
       "      <td>80.919864</td>\n",
       "      <td>66.464293</td>\n",
       "      <td>81.059691</td>\n",
       "      <td>53.674303</td>\n",
       "    </tr>\n",
       "  </tbody>\n",
       "</table>\n",
       "</div>"
      ],
      "text/plain": [
       "                    Average Math Score  Average Reading Score  % Passing Math  \\\n",
       "School Size Ranges                                                              \n",
       "Small (0-1000)               83.821598              83.929843       93.550225   \n",
       "Medium (1000-2500)           81.176821              82.933187       84.649798   \n",
       "Large (2500-5000)            77.063340              80.919864       66.464293   \n",
       "\n",
       "                    % Passing Reading  % Overall Passing  \n",
       "School Size Ranges                                        \n",
       "Small (0-1000)              96.099437          89.883853  \n",
       "Medium (1000-2500)          91.316412          78.299832  \n",
       "Large (2500-5000)           81.059691          53.674303  "
      ]
     },
     "execution_count": 38,
     "metadata": {},
     "output_type": "execute_result"
    }
   ],
   "source": [
    "# Create a GroupBy object based upon \"School Size Ranges\"\n",
    "school_summary_group = school_summary.groupby(\"School Size Ranges\")\n",
    "\n",
    "# Find how many rows fall into each bin\n",
    "print(school_summary_group[\"Average Math Score\"].count())\n",
    "\n",
    "# Get the average of each column within the GroupBy object\n",
    "school_summary_group[[\"Average Math Score\", \n",
    "                      \"Average Reading Score\", \n",
    "                      \"% Passing Math\", \n",
    "                      \"% Passing Reading\", \n",
    "                      \"% Overall Passing\"]].mean()"
   ]
  },
  {
   "cell_type": "code",
   "execution_count": 39,
   "metadata": {},
   "outputs": [
    {
     "name": "stdout",
     "output_type": "stream",
     "text": [
      "['District' 'Charter']\n"
     ]
    }
   ],
   "source": [
    "# check for the different object values in column\n",
    "print(school_summary[\"School Type\"].unique())"
   ]
  },
  {
   "cell_type": "code",
   "execution_count": 40,
   "metadata": {},
   "outputs": [],
   "source": [
    "scores_by_school_type = pd.DataFrame({\"Average Math Score\": school_summary.groupby(\"School Type\") [\"Average Math Score\"].mean(), \n",
    "                                      \"Average Reading Score\": school_summary.groupby(\"School Type\") [\"Average Reading Score\"].mean(),\n",
    "                                      \"% Passing Math\": pd.to_numeric(school_summary[\"% Passing Math\"]).groupby(school_summary[\"School Type\"]).mean(),\n",
    "                                      \"% Passing Reading\": pd.to_numeric(school_summary[\"% Passing Reading\"]).groupby(school_summary[\"School Type\"]).mean(),\n",
    "                                      \"% Overall Passing\": pd.to_numeric(school_summary[\"% Overall Passing\"]).groupby(school_summary[\"School Type\"]).mean()\n",
    "                                   })\n",
    "#scores_by_school_type"
   ]
  },
  {
   "cell_type": "code",
   "execution_count": null,
   "metadata": {},
   "outputs": [],
   "source": []
  },
  {
   "cell_type": "code",
   "execution_count": null,
   "metadata": {},
   "outputs": [],
   "source": []
  }
 ],
 "metadata": {
  "kernelspec": {
   "display_name": "Python 3",
   "language": "python",
   "name": "python3"
  },
  "language_info": {
   "codemirror_mode": {
    "name": "ipython",
    "version": 3
   },
   "file_extension": ".py",
   "mimetype": "text/x-python",
   "name": "python",
   "nbconvert_exporter": "python",
   "pygments_lexer": "ipython3",
   "version": "3.8.3"
  }
 },
 "nbformat": 4,
 "nbformat_minor": 4
}
