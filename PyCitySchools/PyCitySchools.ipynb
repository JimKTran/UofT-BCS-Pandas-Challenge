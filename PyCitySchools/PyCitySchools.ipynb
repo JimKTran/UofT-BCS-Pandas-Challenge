{
 "cells": [
  {
   "cell_type": "code",
   "execution_count": 1,
   "metadata": {},
   "outputs": [],
   "source": [
    "# dependencies\n",
    "import pandas as pd\n",
    "import os"
   ]
  },
  {
   "cell_type": "code",
   "execution_count": 2,
   "metadata": {},
   "outputs": [],
   "source": [
    "# set file paths\n",
    "schoolsPath = os.path.join(\"Resources\", \"schools_complete.csv\")\n",
    "studentsPath = os.path.join(\"Resources\", \"students_complete.csv\")\n",
    "\n",
    "# read in csv files\n",
    "schools = pd.read_csv(schoolsPath)\n",
    "students = pd.read_csv(studentsPath)"
   ]
  },
  {
   "cell_type": "code",
   "execution_count": 3,
   "metadata": {},
   "outputs": [
    {
     "data": {
      "text/html": [
       "<div>\n",
       "<style scoped>\n",
       "    .dataframe tbody tr th:only-of-type {\n",
       "        vertical-align: middle;\n",
       "    }\n",
       "\n",
       "    .dataframe tbody tr th {\n",
       "        vertical-align: top;\n",
       "    }\n",
       "\n",
       "    .dataframe thead th {\n",
       "        text-align: right;\n",
       "    }\n",
       "</style>\n",
       "<table border=\"1\" class=\"dataframe\">\n",
       "  <thead>\n",
       "    <tr style=\"text-align: right;\">\n",
       "      <th></th>\n",
       "      <th>Student ID</th>\n",
       "      <th>student_name</th>\n",
       "      <th>gender</th>\n",
       "      <th>grade</th>\n",
       "      <th>school_name</th>\n",
       "      <th>reading_score</th>\n",
       "      <th>math_score</th>\n",
       "      <th>School ID</th>\n",
       "      <th>type</th>\n",
       "      <th>size</th>\n",
       "      <th>budget</th>\n",
       "    </tr>\n",
       "  </thead>\n",
       "  <tbody>\n",
       "    <tr>\n",
       "      <th>0</th>\n",
       "      <td>0</td>\n",
       "      <td>Paul Bradley</td>\n",
       "      <td>M</td>\n",
       "      <td>9th</td>\n",
       "      <td>Huang High School</td>\n",
       "      <td>66</td>\n",
       "      <td>79</td>\n",
       "      <td>0</td>\n",
       "      <td>District</td>\n",
       "      <td>2917</td>\n",
       "      <td>1910635</td>\n",
       "    </tr>\n",
       "    <tr>\n",
       "      <th>1</th>\n",
       "      <td>1</td>\n",
       "      <td>Victor Smith</td>\n",
       "      <td>M</td>\n",
       "      <td>12th</td>\n",
       "      <td>Huang High School</td>\n",
       "      <td>94</td>\n",
       "      <td>61</td>\n",
       "      <td>0</td>\n",
       "      <td>District</td>\n",
       "      <td>2917</td>\n",
       "      <td>1910635</td>\n",
       "    </tr>\n",
       "    <tr>\n",
       "      <th>2</th>\n",
       "      <td>2</td>\n",
       "      <td>Kevin Rodriguez</td>\n",
       "      <td>M</td>\n",
       "      <td>12th</td>\n",
       "      <td>Huang High School</td>\n",
       "      <td>90</td>\n",
       "      <td>60</td>\n",
       "      <td>0</td>\n",
       "      <td>District</td>\n",
       "      <td>2917</td>\n",
       "      <td>1910635</td>\n",
       "    </tr>\n",
       "    <tr>\n",
       "      <th>3</th>\n",
       "      <td>3</td>\n",
       "      <td>Dr. Richard Scott</td>\n",
       "      <td>M</td>\n",
       "      <td>12th</td>\n",
       "      <td>Huang High School</td>\n",
       "      <td>67</td>\n",
       "      <td>58</td>\n",
       "      <td>0</td>\n",
       "      <td>District</td>\n",
       "      <td>2917</td>\n",
       "      <td>1910635</td>\n",
       "    </tr>\n",
       "    <tr>\n",
       "      <th>4</th>\n",
       "      <td>4</td>\n",
       "      <td>Bonnie Ray</td>\n",
       "      <td>F</td>\n",
       "      <td>9th</td>\n",
       "      <td>Huang High School</td>\n",
       "      <td>97</td>\n",
       "      <td>84</td>\n",
       "      <td>0</td>\n",
       "      <td>District</td>\n",
       "      <td>2917</td>\n",
       "      <td>1910635</td>\n",
       "    </tr>\n",
       "    <tr>\n",
       "      <th>...</th>\n",
       "      <td>...</td>\n",
       "      <td>...</td>\n",
       "      <td>...</td>\n",
       "      <td>...</td>\n",
       "      <td>...</td>\n",
       "      <td>...</td>\n",
       "      <td>...</td>\n",
       "      <td>...</td>\n",
       "      <td>...</td>\n",
       "      <td>...</td>\n",
       "      <td>...</td>\n",
       "    </tr>\n",
       "    <tr>\n",
       "      <th>39165</th>\n",
       "      <td>39165</td>\n",
       "      <td>Donna Howard</td>\n",
       "      <td>F</td>\n",
       "      <td>12th</td>\n",
       "      <td>Thomas High School</td>\n",
       "      <td>99</td>\n",
       "      <td>90</td>\n",
       "      <td>14</td>\n",
       "      <td>Charter</td>\n",
       "      <td>1635</td>\n",
       "      <td>1043130</td>\n",
       "    </tr>\n",
       "    <tr>\n",
       "      <th>39166</th>\n",
       "      <td>39166</td>\n",
       "      <td>Dawn Bell</td>\n",
       "      <td>F</td>\n",
       "      <td>10th</td>\n",
       "      <td>Thomas High School</td>\n",
       "      <td>95</td>\n",
       "      <td>70</td>\n",
       "      <td>14</td>\n",
       "      <td>Charter</td>\n",
       "      <td>1635</td>\n",
       "      <td>1043130</td>\n",
       "    </tr>\n",
       "    <tr>\n",
       "      <th>39167</th>\n",
       "      <td>39167</td>\n",
       "      <td>Rebecca Tanner</td>\n",
       "      <td>F</td>\n",
       "      <td>9th</td>\n",
       "      <td>Thomas High School</td>\n",
       "      <td>73</td>\n",
       "      <td>84</td>\n",
       "      <td>14</td>\n",
       "      <td>Charter</td>\n",
       "      <td>1635</td>\n",
       "      <td>1043130</td>\n",
       "    </tr>\n",
       "    <tr>\n",
       "      <th>39168</th>\n",
       "      <td>39168</td>\n",
       "      <td>Desiree Kidd</td>\n",
       "      <td>F</td>\n",
       "      <td>10th</td>\n",
       "      <td>Thomas High School</td>\n",
       "      <td>99</td>\n",
       "      <td>90</td>\n",
       "      <td>14</td>\n",
       "      <td>Charter</td>\n",
       "      <td>1635</td>\n",
       "      <td>1043130</td>\n",
       "    </tr>\n",
       "    <tr>\n",
       "      <th>39169</th>\n",
       "      <td>39169</td>\n",
       "      <td>Carolyn Jackson</td>\n",
       "      <td>F</td>\n",
       "      <td>11th</td>\n",
       "      <td>Thomas High School</td>\n",
       "      <td>95</td>\n",
       "      <td>75</td>\n",
       "      <td>14</td>\n",
       "      <td>Charter</td>\n",
       "      <td>1635</td>\n",
       "      <td>1043130</td>\n",
       "    </tr>\n",
       "  </tbody>\n",
       "</table>\n",
       "<p>39170 rows × 11 columns</p>\n",
       "</div>"
      ],
      "text/plain": [
       "       Student ID       student_name gender grade         school_name  \\\n",
       "0               0       Paul Bradley      M   9th   Huang High School   \n",
       "1               1       Victor Smith      M  12th   Huang High School   \n",
       "2               2    Kevin Rodriguez      M  12th   Huang High School   \n",
       "3               3  Dr. Richard Scott      M  12th   Huang High School   \n",
       "4               4         Bonnie Ray      F   9th   Huang High School   \n",
       "...           ...                ...    ...   ...                 ...   \n",
       "39165       39165       Donna Howard      F  12th  Thomas High School   \n",
       "39166       39166          Dawn Bell      F  10th  Thomas High School   \n",
       "39167       39167     Rebecca Tanner      F   9th  Thomas High School   \n",
       "39168       39168       Desiree Kidd      F  10th  Thomas High School   \n",
       "39169       39169    Carolyn Jackson      F  11th  Thomas High School   \n",
       "\n",
       "       reading_score  math_score  School ID      type  size   budget  \n",
       "0                 66          79          0  District  2917  1910635  \n",
       "1                 94          61          0  District  2917  1910635  \n",
       "2                 90          60          0  District  2917  1910635  \n",
       "3                 67          58          0  District  2917  1910635  \n",
       "4                 97          84          0  District  2917  1910635  \n",
       "...              ...         ...        ...       ...   ...      ...  \n",
       "39165             99          90         14   Charter  1635  1043130  \n",
       "39166             95          70         14   Charter  1635  1043130  \n",
       "39167             73          84         14   Charter  1635  1043130  \n",
       "39168             99          90         14   Charter  1635  1043130  \n",
       "39169             95          75         14   Charter  1635  1043130  \n",
       "\n",
       "[39170 rows x 11 columns]"
      ]
     },
     "execution_count": 3,
     "metadata": {},
     "output_type": "execute_result"
    }
   ],
   "source": [
    "# combine both files into one csv dataset\n",
    "schoolNstudents = pd.merge(students, schools, how=\"left\", on=[\"school_name\", \"school_name\"])\n",
    "schoolNstudents"
   ]
  },
  {
   "cell_type": "code",
   "execution_count": 4,
   "metadata": {},
   "outputs": [
    {
     "data": {
      "text/plain": [
       "15"
      ]
     },
     "execution_count": 4,
     "metadata": {},
     "output_type": "execute_result"
    }
   ],
   "source": [
    "# calculate the total number of schools\n",
    "unique_schools = schoolNstudents[\"school_name\"].unique()\n",
    "total_schools = len(unique_schools)\n",
    "total_schools"
   ]
  },
  {
   "cell_type": "code",
   "execution_count": 5,
   "metadata": {},
   "outputs": [
    {
     "data": {
      "text/plain": [
       "39170"
      ]
     },
     "execution_count": 5,
     "metadata": {},
     "output_type": "execute_result"
    }
   ],
   "source": [
    "# calculate the total number of students\n",
    "total_students = len(schoolNstudents[\"student_name\"])\n",
    "total_students"
   ]
  },
  {
   "cell_type": "code",
   "execution_count": 6,
   "metadata": {},
   "outputs": [
    {
     "data": {
      "text/plain": [
       "24649428"
      ]
     },
     "execution_count": 6,
     "metadata": {},
     "output_type": "execute_result"
    }
   ],
   "source": [
    "# calculate the total budget\n",
    "total_budget = schools[\"budget\"].sum()\n",
    "total_budget"
   ]
  },
  {
   "cell_type": "code",
   "execution_count": 7,
   "metadata": {},
   "outputs": [
    {
     "data": {
      "text/plain": [
       "78.98537145774827"
      ]
     },
     "execution_count": 7,
     "metadata": {},
     "output_type": "execute_result"
    }
   ],
   "source": [
    "# calculate the average math score\n",
    "average_math = students[\"math_score\"].mean()\n",
    "average_math"
   ]
  },
  {
   "cell_type": "code",
   "execution_count": 8,
   "metadata": {},
   "outputs": [
    {
     "data": {
      "text/plain": [
       "81.87784018381414"
      ]
     },
     "execution_count": 8,
     "metadata": {},
     "output_type": "execute_result"
    }
   ],
   "source": [
    "# calculate the average reading score\n",
    "average_reading = students[\"reading_score\"].mean()\n",
    "average_reading"
   ]
  },
  {
   "cell_type": "code",
   "execution_count": 9,
   "metadata": {},
   "outputs": [
    {
     "data": {
      "text/plain": [
       "74.9808526933878"
      ]
     },
     "execution_count": 9,
     "metadata": {},
     "output_type": "execute_result"
    }
   ],
   "source": [
    "# calculate the percentage of students with a passing math score (70 or greater)\n",
    "math_greater_70 = students.loc[students[\"math_score\"] >= 70, :]\n",
    "math_passing_percent = (len(math_greater_70) / total_students)*100\n",
    "math_passing_percent"
   ]
  },
  {
   "cell_type": "code",
   "execution_count": 10,
   "metadata": {},
   "outputs": [
    {
     "data": {
      "text/plain": [
       "85.80546336482001"
      ]
     },
     "execution_count": 10,
     "metadata": {},
     "output_type": "execute_result"
    }
   ],
   "source": [
    "# calculate the percentage of students with a passing reading score (70 or greater)\n",
    "reading_greater_70 = students.loc[students[\"reading_score\"] >= 70, :]\n",
    "reading_passing_percent = (len(reading_greater_70) / total_students)*100\n",
    "reading_passing_percent"
   ]
  },
  {
   "cell_type": "code",
   "execution_count": 11,
   "metadata": {},
   "outputs": [
    {
     "data": {
      "text/plain": [
       "65.17232575950983"
      ]
     },
     "execution_count": 11,
     "metadata": {},
     "output_type": "execute_result"
    }
   ],
   "source": [
    "# calculate the percentage of students who passed math and reading (% Overall Passing)\n",
    "passing_math_reading = students.loc[(students[\"math_score\"] >= 70) & (students[\"reading_score\"] >= 70), :]\n",
    "overall_passing_percent = (len(passing_math_reading) / total_students)*100\n",
    "overall_passing_percent"
   ]
  },
  {
   "cell_type": "code",
   "execution_count": 12,
   "metadata": {},
   "outputs": [],
   "source": [
    "# Create a dataframe to hold the above results\n",
    "district_summary = pd.DataFrame({\"Total Schools\": [total_schools],\n",
    "                        \"Total Students\": [total_students],\n",
    "                        \"Total Budget\": [total_budget],\n",
    "                        \"Average Math Score\": [average_math],\n",
    "                        \"Average Reading Score\": [average_reading],\n",
    "                        \"% Passing Math\": [math_passing_percent],\n",
    "                        \"% Passing Reading\": [reading_passing_percent],\n",
    "                        \"% Overall Passing\": [overall_passing_percent],\n",
    "                        })"
   ]
  },
  {
   "cell_type": "code",
   "execution_count": 13,
   "metadata": {
    "scrolled": true
   },
   "outputs": [],
   "source": [
    "# converting integers to float for formatting\n",
    "district_summary[\"Total Students\"] = district_summary[\"Total Students\"].astype(float)\n",
    "district_summary[\"Total Budget\"] = district_summary[\"Total Budget\"].astype(float)"
   ]
  },
  {
   "cell_type": "code",
   "execution_count": 14,
   "metadata": {},
   "outputs": [
    {
     "data": {
      "text/html": [
       "<div>\n",
       "<style scoped>\n",
       "    .dataframe tbody tr th:only-of-type {\n",
       "        vertical-align: middle;\n",
       "    }\n",
       "\n",
       "    .dataframe tbody tr th {\n",
       "        vertical-align: top;\n",
       "    }\n",
       "\n",
       "    .dataframe thead th {\n",
       "        text-align: right;\n",
       "    }\n",
       "</style>\n",
       "<table border=\"1\" class=\"dataframe\">\n",
       "  <thead>\n",
       "    <tr style=\"text-align: right;\">\n",
       "      <th></th>\n",
       "      <th>Total Schools</th>\n",
       "      <th>Total Students</th>\n",
       "      <th>Total Budget</th>\n",
       "      <th>Average Math Score</th>\n",
       "      <th>Average Reading Score</th>\n",
       "      <th>% Passing Math</th>\n",
       "      <th>% Passing Reading</th>\n",
       "      <th>% Overall Passing</th>\n",
       "    </tr>\n",
       "  </thead>\n",
       "  <tbody>\n",
       "    <tr>\n",
       "      <th>0</th>\n",
       "      <td>15</td>\n",
       "      <td>39,170</td>\n",
       "      <td>$24,649,428.00</td>\n",
       "      <td>78.985371</td>\n",
       "      <td>81.87784</td>\n",
       "      <td>74.980853</td>\n",
       "      <td>85.805463</td>\n",
       "      <td>65.172326</td>\n",
       "    </tr>\n",
       "  </tbody>\n",
       "</table>\n",
       "</div>"
      ],
      "text/plain": [
       "   Total Schools Total Students    Total Budget  Average Math Score  \\\n",
       "0             15         39,170  $24,649,428.00           78.985371   \n",
       "\n",
       "   Average Reading Score  % Passing Math  % Passing Reading  % Overall Passing  \n",
       "0               81.87784       74.980853          85.805463          65.172326  "
      ]
     },
     "execution_count": 14,
     "metadata": {},
     "output_type": "execute_result"
    }
   ],
   "source": [
    "# formatting for better read of district summary\n",
    "district_summary[\"Total Students\"] = district_summary[\"Total Students\"].map('{:,.0f}'.format)\n",
    "district_summary[\"Total Budget\"] = district_summary[\"Total Budget\"].map('${:,.2f}'.format)\n",
    "district_summary"
   ]
  },
  {
   "cell_type": "code",
   "execution_count": 24,
   "metadata": {},
   "outputs": [],
   "source": [
    "school_summary_df = schools\n",
    "school_summary_df[\"Per Student Budget\"] = ((school_summary_df[\"budget\"] / school_summary_df[\"size\"]).map('${:,.2f}'.format))"
   ]
  },
  {
   "cell_type": "code",
   "execution_count": 16,
   "metadata": {},
   "outputs": [
    {
     "data": {
      "text/plain": [
       "school_name\n",
       "Bailey High School       77.048432\n",
       "Cabrera High School      83.061895\n",
       "Figueroa High School     76.711767\n",
       "Ford High School         77.102592\n",
       "Griffin High School      83.351499\n",
       "Hernandez High School    77.289752\n",
       "Holden High School       83.803279\n",
       "Huang High School        76.629414\n",
       "Johnson High School      77.072464\n",
       "Pena High School         83.839917\n",
       "Rodriguez High School    76.842711\n",
       "Shelton High School      83.359455\n",
       "Thomas High School       83.418349\n",
       "Wilson High School       83.274201\n",
       "Wright High School       83.682222\n",
       "Name: math_score, dtype: float64"
      ]
     },
     "execution_count": 16,
     "metadata": {},
     "output_type": "execute_result"
    }
   ],
   "source": [
    "math_per_school = students.groupby(\"school_name\") [\"math_score\"].sum()\n",
    "student_per_school = students.groupby(\"school_name\") [\"math_score\"].count()\n",
    "average_math_score_df = math_per_school / student_per_school\n",
    "average_math_score_df"
   ]
  },
  {
   "cell_type": "code",
   "execution_count": 17,
   "metadata": {},
   "outputs": [
    {
     "data": {
      "text/plain": [
       "school_name\n",
       "Bailey High School       81.033963\n",
       "Cabrera High School      83.975780\n",
       "Figueroa High School     81.158020\n",
       "Ford High School         80.746258\n",
       "Griffin High School      83.816757\n",
       "Hernandez High School    80.934412\n",
       "Holden High School       83.814988\n",
       "Huang High School        81.182722\n",
       "Johnson High School      80.966394\n",
       "Pena High School         84.044699\n",
       "Rodriguez High School    80.744686\n",
       "Shelton High School      83.725724\n",
       "Thomas High School       83.848930\n",
       "Wilson High School       83.989488\n",
       "Wright High School       83.955000\n",
       "dtype: float64"
      ]
     },
     "execution_count": 17,
     "metadata": {},
     "output_type": "execute_result"
    }
   ],
   "source": [
    "reading_per_school = students.groupby(\"school_name\") [\"reading_score\"].sum()\n",
    "average_reading_score_df = reading_per_school / student_per_school\n",
    "average_reading_score_df"
   ]
  },
  {
   "cell_type": "code",
   "execution_count": 18,
   "metadata": {},
   "outputs": [
    {
     "data": {
      "text/plain": [
       "school_name\n",
       "Bailey High School       66.680064\n",
       "Cabrera High School      94.133477\n",
       "Figueroa High School     65.988471\n",
       "Ford High School         68.309602\n",
       "Griffin High School      93.392371\n",
       "Hernandez High School    66.752967\n",
       "Holden High School       92.505855\n",
       "Huang High School        65.683922\n",
       "Johnson High School      66.057551\n",
       "Pena High School         94.594595\n",
       "Rodriguez High School    66.366592\n",
       "Shelton High School      93.867121\n",
       "Thomas High School       93.272171\n",
       "Wilson High School       93.867718\n",
       "Wright High School       93.333333\n",
       "Name: math_score, dtype: float64"
      ]
     },
     "execution_count": 18,
     "metadata": {},
     "output_type": "execute_result"
    }
   ],
   "source": [
    "# calculate the percentage of students with a passing math score (70 or greater) per school\n",
    "math_greater_70_per_school = students.loc[students[\"math_score\"] >= 70, :]\n",
    "group_math_greater_70_per_school = math_greater_70_per_school.groupby(\"school_name\") [\"math_score\"].count()\n",
    "math_percent_passing_per_school_df = (group_math_greater_70_per_school / student_per_school) * 100\n",
    "math_percent_passing_per_school_df"
   ]
  },
  {
   "cell_type": "code",
   "execution_count": 19,
   "metadata": {},
   "outputs": [
    {
     "data": {
      "text/plain": [
       "school_name\n",
       "Bailey High School       81.933280\n",
       "Cabrera High School      97.039828\n",
       "Figueroa High School     80.739234\n",
       "Ford High School         79.299014\n",
       "Griffin High School      97.138965\n",
       "Hernandez High School    80.862999\n",
       "Holden High School       96.252927\n",
       "Huang High School        81.316421\n",
       "Johnson High School      81.222432\n",
       "Pena High School         95.945946\n",
       "Rodriguez High School    80.220055\n",
       "Shelton High School      95.854628\n",
       "Thomas High School       97.308869\n",
       "Wilson High School       96.539641\n",
       "Wright High School       96.611111\n",
       "dtype: float64"
      ]
     },
     "execution_count": 19,
     "metadata": {},
     "output_type": "execute_result"
    }
   ],
   "source": [
    "# calculate the percentage of students with a passing reading score (70 or greater) per school\n",
    "reading_greater_70_per_school = students.loc[students[\"reading_score\"] >= 70, :]\n",
    "group_reading_greater_70_per_school = reading_greater_70_per_school.groupby(\"school_name\") [\"reading_score\"].count()\n",
    "reading_percent_passing_per_school_df = (group_reading_greater_70_per_school / student_per_school) * 100\n",
    "reading_percent_passing_per_school_df"
   ]
  },
  {
   "cell_type": "code",
   "execution_count": 20,
   "metadata": {},
   "outputs": [
    {
     "data": {
      "text/plain": [
       "school_name\n",
       "Bailey High School       54.642283\n",
       "Cabrera High School      91.334769\n",
       "Figueroa High School     53.204476\n",
       "Ford High School         54.289887\n",
       "Griffin High School      90.599455\n",
       "Hernandez High School    53.527508\n",
       "Holden High School       89.227166\n",
       "Huang High School        53.513884\n",
       "Johnson High School      53.539172\n",
       "Pena High School         90.540541\n",
       "Rodriguez High School    52.988247\n",
       "Shelton High School      89.892107\n",
       "Thomas High School       90.948012\n",
       "Wilson High School       90.582567\n",
       "Wright High School       90.333333\n",
       "dtype: float64"
      ]
     },
     "execution_count": 20,
     "metadata": {},
     "output_type": "execute_result"
    }
   ],
   "source": [
    "# calculate the percentage of students who passed math and reading (% Overall Passing) per school\n",
    "passing_math_reading_per_school = students.loc[(students[\"math_score\"] >= 70) & (students[\"reading_score\"] >= 70), :]\n",
    "group_passing_math_reading_per_school = passing_math_reading_per_school.groupby(\"school_name\") [\"school_name\"].count()\n",
    "overall_passing_percent_per_school_df = (group_passing_math_reading_per_school / student_per_school)*100\n",
    "overall_passing_percent_per_school_df"
   ]
  },
  {
   "cell_type": "code",
   "execution_count": 23,
   "metadata": {},
   "outputs": [
    {
     "data": {
      "text/html": [
       "<div>\n",
       "<style scoped>\n",
       "    .dataframe tbody tr th:only-of-type {\n",
       "        vertical-align: middle;\n",
       "    }\n",
       "\n",
       "    .dataframe tbody tr th {\n",
       "        vertical-align: top;\n",
       "    }\n",
       "\n",
       "    .dataframe thead th {\n",
       "        text-align: right;\n",
       "    }\n",
       "</style>\n",
       "<table border=\"1\" class=\"dataframe\">\n",
       "  <thead>\n",
       "    <tr style=\"text-align: right;\">\n",
       "      <th></th>\n",
       "      <th>Average Math Score</th>\n",
       "      <th>Average Reading Score</th>\n",
       "      <th>% Passing Math</th>\n",
       "      <th>% Passing Reading</th>\n",
       "      <th>% Overall Passing</th>\n",
       "    </tr>\n",
       "    <tr>\n",
       "      <th>school_name</th>\n",
       "      <th></th>\n",
       "      <th></th>\n",
       "      <th></th>\n",
       "      <th></th>\n",
       "      <th></th>\n",
       "    </tr>\n",
       "  </thead>\n",
       "  <tbody>\n",
       "    <tr>\n",
       "      <th>Bailey High School</th>\n",
       "      <td>77.048432</td>\n",
       "      <td>81.033963</td>\n",
       "      <td>66.680064</td>\n",
       "      <td>81.933280</td>\n",
       "      <td>54.642283</td>\n",
       "    </tr>\n",
       "    <tr>\n",
       "      <th>Cabrera High School</th>\n",
       "      <td>83.061895</td>\n",
       "      <td>83.975780</td>\n",
       "      <td>94.133477</td>\n",
       "      <td>97.039828</td>\n",
       "      <td>91.334769</td>\n",
       "    </tr>\n",
       "    <tr>\n",
       "      <th>Figueroa High School</th>\n",
       "      <td>76.711767</td>\n",
       "      <td>81.158020</td>\n",
       "      <td>65.988471</td>\n",
       "      <td>80.739234</td>\n",
       "      <td>53.204476</td>\n",
       "    </tr>\n",
       "    <tr>\n",
       "      <th>Ford High School</th>\n",
       "      <td>77.102592</td>\n",
       "      <td>80.746258</td>\n",
       "      <td>68.309602</td>\n",
       "      <td>79.299014</td>\n",
       "      <td>54.289887</td>\n",
       "    </tr>\n",
       "    <tr>\n",
       "      <th>Griffin High School</th>\n",
       "      <td>83.351499</td>\n",
       "      <td>83.816757</td>\n",
       "      <td>93.392371</td>\n",
       "      <td>97.138965</td>\n",
       "      <td>90.599455</td>\n",
       "    </tr>\n",
       "    <tr>\n",
       "      <th>Hernandez High School</th>\n",
       "      <td>77.289752</td>\n",
       "      <td>80.934412</td>\n",
       "      <td>66.752967</td>\n",
       "      <td>80.862999</td>\n",
       "      <td>53.527508</td>\n",
       "    </tr>\n",
       "    <tr>\n",
       "      <th>Holden High School</th>\n",
       "      <td>83.803279</td>\n",
       "      <td>83.814988</td>\n",
       "      <td>92.505855</td>\n",
       "      <td>96.252927</td>\n",
       "      <td>89.227166</td>\n",
       "    </tr>\n",
       "    <tr>\n",
       "      <th>Huang High School</th>\n",
       "      <td>76.629414</td>\n",
       "      <td>81.182722</td>\n",
       "      <td>65.683922</td>\n",
       "      <td>81.316421</td>\n",
       "      <td>53.513884</td>\n",
       "    </tr>\n",
       "    <tr>\n",
       "      <th>Johnson High School</th>\n",
       "      <td>77.072464</td>\n",
       "      <td>80.966394</td>\n",
       "      <td>66.057551</td>\n",
       "      <td>81.222432</td>\n",
       "      <td>53.539172</td>\n",
       "    </tr>\n",
       "    <tr>\n",
       "      <th>Pena High School</th>\n",
       "      <td>83.839917</td>\n",
       "      <td>84.044699</td>\n",
       "      <td>94.594595</td>\n",
       "      <td>95.945946</td>\n",
       "      <td>90.540541</td>\n",
       "    </tr>\n",
       "    <tr>\n",
       "      <th>Rodriguez High School</th>\n",
       "      <td>76.842711</td>\n",
       "      <td>80.744686</td>\n",
       "      <td>66.366592</td>\n",
       "      <td>80.220055</td>\n",
       "      <td>52.988247</td>\n",
       "    </tr>\n",
       "    <tr>\n",
       "      <th>Shelton High School</th>\n",
       "      <td>83.359455</td>\n",
       "      <td>83.725724</td>\n",
       "      <td>93.867121</td>\n",
       "      <td>95.854628</td>\n",
       "      <td>89.892107</td>\n",
       "    </tr>\n",
       "    <tr>\n",
       "      <th>Thomas High School</th>\n",
       "      <td>83.418349</td>\n",
       "      <td>83.848930</td>\n",
       "      <td>93.272171</td>\n",
       "      <td>97.308869</td>\n",
       "      <td>90.948012</td>\n",
       "    </tr>\n",
       "    <tr>\n",
       "      <th>Wilson High School</th>\n",
       "      <td>83.274201</td>\n",
       "      <td>83.989488</td>\n",
       "      <td>93.867718</td>\n",
       "      <td>96.539641</td>\n",
       "      <td>90.582567</td>\n",
       "    </tr>\n",
       "    <tr>\n",
       "      <th>Wright High School</th>\n",
       "      <td>83.682222</td>\n",
       "      <td>83.955000</td>\n",
       "      <td>93.333333</td>\n",
       "      <td>96.611111</td>\n",
       "      <td>90.333333</td>\n",
       "    </tr>\n",
       "  </tbody>\n",
       "</table>\n",
       "</div>"
      ],
      "text/plain": [
       "                       Average Math Score  Average Reading Score  \\\n",
       "school_name                                                        \n",
       "Bailey High School              77.048432              81.033963   \n",
       "Cabrera High School             83.061895              83.975780   \n",
       "Figueroa High School            76.711767              81.158020   \n",
       "Ford High School                77.102592              80.746258   \n",
       "Griffin High School             83.351499              83.816757   \n",
       "Hernandez High School           77.289752              80.934412   \n",
       "Holden High School              83.803279              83.814988   \n",
       "Huang High School               76.629414              81.182722   \n",
       "Johnson High School             77.072464              80.966394   \n",
       "Pena High School                83.839917              84.044699   \n",
       "Rodriguez High School           76.842711              80.744686   \n",
       "Shelton High School             83.359455              83.725724   \n",
       "Thomas High School              83.418349              83.848930   \n",
       "Wilson High School              83.274201              83.989488   \n",
       "Wright High School              83.682222              83.955000   \n",
       "\n",
       "                       % Passing Math  % Passing Reading  % Overall Passing  \n",
       "school_name                                                                  \n",
       "Bailey High School          66.680064          81.933280          54.642283  \n",
       "Cabrera High School         94.133477          97.039828          91.334769  \n",
       "Figueroa High School        65.988471          80.739234          53.204476  \n",
       "Ford High School            68.309602          79.299014          54.289887  \n",
       "Griffin High School         93.392371          97.138965          90.599455  \n",
       "Hernandez High School       66.752967          80.862999          53.527508  \n",
       "Holden High School          92.505855          96.252927          89.227166  \n",
       "Huang High School           65.683922          81.316421          53.513884  \n",
       "Johnson High School         66.057551          81.222432          53.539172  \n",
       "Pena High School            94.594595          95.945946          90.540541  \n",
       "Rodriguez High School       66.366592          80.220055          52.988247  \n",
       "Shelton High School         93.867121          95.854628          89.892107  \n",
       "Thomas High School          93.272171          97.308869          90.948012  \n",
       "Wilson High School          93.867718          96.539641          90.582567  \n",
       "Wright High School          93.333333          96.611111          90.333333  "
      ]
     },
     "execution_count": 23,
     "metadata": {},
     "output_type": "execute_result"
    }
   ],
   "source": [
    "student_marks_per_shool_df = pd.DataFrame({\"Average Math Score\": average_math_score_df,\n",
    "                                           \"Average Reading Score\": average_reading_score_df,\n",
    "                                           \"% Passing Math\": math_percent_passing_per_school_df,\n",
    "                                           \"% Passing Reading\": reading_percent_passing_per_school_df,\n",
    "                                           \"% Overall Passing\": overall_passing_percent_per_school_df\n",
    "                                          })\n",
    "student_marks_per_shool_df"
   ]
  },
  {
   "cell_type": "code",
   "execution_count": null,
   "metadata": {},
   "outputs": [],
   "source": []
  }
 ],
 "metadata": {
  "kernelspec": {
   "display_name": "Python 3",
   "language": "python",
   "name": "python3"
  },
  "language_info": {
   "codemirror_mode": {
    "name": "ipython",
    "version": 3
   },
   "file_extension": ".py",
   "mimetype": "text/x-python",
   "name": "python",
   "nbconvert_exporter": "python",
   "pygments_lexer": "ipython3",
   "version": "3.8.3"
  }
 },
 "nbformat": 4,
 "nbformat_minor": 4
}
