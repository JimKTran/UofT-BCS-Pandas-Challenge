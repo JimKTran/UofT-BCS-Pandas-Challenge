{
 "cells": [
  {
   "cell_type": "markdown",
   "metadata": {},
   "source": [
    "# PyCitySchools"
   ]
  },
  {
   "cell_type": "code",
   "execution_count": 1,
   "metadata": {},
   "outputs": [],
   "source": [
    "# dependencies\n",
    "import pandas as pd\n",
    "import os"
   ]
  },
  {
   "cell_type": "code",
   "execution_count": 2,
   "metadata": {},
   "outputs": [],
   "source": [
    "# set file paths\n",
    "schoolsPath = os.path.join(\"Resources\", \"schools_complete.csv\")\n",
    "studentsPath = os.path.join(\"Resources\", \"students_complete.csv\")\n",
    "\n",
    "# read in csv files\n",
    "schools = pd.read_csv(schoolsPath)\n",
    "students = pd.read_csv(studentsPath)"
   ]
  },
  {
   "cell_type": "markdown",
   "metadata": {},
   "source": [
    "## Schools Data"
   ]
  },
  {
   "cell_type": "code",
   "execution_count": 3,
   "metadata": {},
   "outputs": [],
   "source": [
    "#schools.head()"
   ]
  },
  {
   "cell_type": "markdown",
   "metadata": {},
   "source": [
    "## Students Data"
   ]
  },
  {
   "cell_type": "code",
   "execution_count": 4,
   "metadata": {},
   "outputs": [],
   "source": [
    "#students.head()"
   ]
  },
  {
   "cell_type": "code",
   "execution_count": 5,
   "metadata": {},
   "outputs": [],
   "source": [
    "# combine both files into one csv dataset\n",
    "schoolsNstudents = pd.merge(students, schools, on=\"school_name\", how=\"left\")"
   ]
  },
  {
   "cell_type": "markdown",
   "metadata": {},
   "source": [
    "## Combined Data"
   ]
  },
  {
   "cell_type": "code",
   "execution_count": 6,
   "metadata": {},
   "outputs": [],
   "source": [
    "#schoolsNstudents.head()"
   ]
  },
  {
   "cell_type": "markdown",
   "metadata": {},
   "source": [
    "### Calculations for District Summary"
   ]
  },
  {
   "cell_type": "code",
   "execution_count": 7,
   "metadata": {},
   "outputs": [],
   "source": [
    "# calculate the total number of schools\n",
    "total_schools = schools[\"school_name\"].count()\n",
    "#total_schools"
   ]
  },
  {
   "cell_type": "code",
   "execution_count": 8,
   "metadata": {},
   "outputs": [],
   "source": [
    "# calculate the total number of students\n",
    "total_students = students[\"student_name\"].count()\n",
    "#total_students"
   ]
  },
  {
   "cell_type": "code",
   "execution_count": 9,
   "metadata": {},
   "outputs": [],
   "source": [
    "# calculate the total budget\n",
    "total_budget = schools[\"budget\"].sum()\n",
    "#total_budget"
   ]
  },
  {
   "cell_type": "code",
   "execution_count": 10,
   "metadata": {},
   "outputs": [],
   "source": [
    "# calculate the average math score\n",
    "average_math = students[\"math_score\"].mean()\n",
    "#average_math"
   ]
  },
  {
   "cell_type": "code",
   "execution_count": 11,
   "metadata": {},
   "outputs": [],
   "source": [
    "# calculate the average reading score\n",
    "average_reading = students[\"reading_score\"].mean()\n",
    "#average_reading"
   ]
  },
  {
   "cell_type": "code",
   "execution_count": 12,
   "metadata": {},
   "outputs": [],
   "source": [
    "# calculate the percentage of students with a passing math score (70 or greater)\n",
    "math_greater_70 = students.loc[students[\"math_score\"] >= 70, :]\n",
    "math_passing_percent = (len(math_greater_70) / total_students)*100\n",
    "#math_passing_percent"
   ]
  },
  {
   "cell_type": "code",
   "execution_count": 13,
   "metadata": {},
   "outputs": [],
   "source": [
    "# calculate the percentage of students with a passing reading score (70 or greater)\n",
    "reading_greater_70 = students.loc[students[\"reading_score\"] >= 70, :]\n",
    "reading_passing_percent = (len(reading_greater_70) / total_students)*100\n",
    "#reading_passing_percent"
   ]
  },
  {
   "cell_type": "code",
   "execution_count": 14,
   "metadata": {},
   "outputs": [],
   "source": [
    "# calculate the percentage of students who passed math and reading (% Overall Passing)\n",
    "passing_math_reading = students.loc[(students[\"math_score\"] >= 70) & (students[\"reading_score\"] >= 70), :]\n",
    "overall_passing_percent = (len(passing_math_reading) / total_students)*100\n",
    "#overall_passing_percent"
   ]
  },
  {
   "cell_type": "code",
   "execution_count": 15,
   "metadata": {},
   "outputs": [],
   "source": [
    "# Create a dataframe to hold the above results\n",
    "district_summary = pd.DataFrame({\"Total Schools\": [total_schools],\n",
    "                        \"Total Students\": [total_students],\n",
    "                        \"Total Budget\": [total_budget],\n",
    "                        \"Average Math Score\": [average_math],\n",
    "                        \"Average Reading Score\": [average_reading],\n",
    "                        \"% Passing Math\": [math_passing_percent],\n",
    "                        \"% Passing Reading\": [reading_passing_percent],\n",
    "                        \"% Overall Passing\": [overall_passing_percent],\n",
    "                        })"
   ]
  },
  {
   "cell_type": "code",
   "execution_count": 16,
   "metadata": {},
   "outputs": [],
   "source": [
    "# formatting for better read of district summary\n",
    "district_summary[\"Total Students\"] = district_summary[\"Total Students\"].map('{:,.0f}'.format)\n",
    "district_summary[\"Total Budget\"] = district_summary[\"Total Budget\"].map('${:,.2f}'.format)"
   ]
  },
  {
   "cell_type": "markdown",
   "metadata": {},
   "source": [
    "## District Summary"
   ]
  },
  {
   "cell_type": "code",
   "execution_count": 17,
   "metadata": {},
   "outputs": [],
   "source": [
    "#district_summary"
   ]
  },
  {
   "cell_type": "markdown",
   "metadata": {},
   "source": [
    "### Calculations for School Summary"
   ]
  },
  {
   "cell_type": "code",
   "execution_count": 18,
   "metadata": {},
   "outputs": [],
   "source": [
    "# calculate budget per student by schools\n",
    "schools[\"Per Student Budget\"] = (schools[\"budget\"] / schools[\"size\"])\n",
    "schools = schools.sort_values(\"school_name\", ascending=True).reset_index(drop=True)\n",
    "#schools[\"Per Student Budget\"] = schools[\"Per Student Budget\"].astype(float)\n",
    "#schools"
   ]
  },
  {
   "cell_type": "code",
   "execution_count": 19,
   "metadata": {},
   "outputs": [],
   "source": [
    "# calculate the average math scores by schools\n",
    "math_score_per_school = students.groupby(\"school_name\") [\"math_score\"].sum()\n",
    "students_per_school = students.groupby(\"school_name\")[\"math_score\"].count()\n",
    "average_math_score_df = math_score_per_school / students_per_school\n",
    "#average_math_score_df"
   ]
  },
  {
   "cell_type": "code",
   "execution_count": 20,
   "metadata": {},
   "outputs": [],
   "source": [
    "# calculate the average reading scores by schools\n",
    "reading_score_per_school = students.groupby(\"school_name\") [\"reading_score\"].sum()\n",
    "average_reading_score_df = reading_score_per_school / students_per_school\n",
    "#average_reading_score_df"
   ]
  },
  {
   "cell_type": "code",
   "execution_count": 21,
   "metadata": {},
   "outputs": [],
   "source": [
    "# calculate the percentage of students with a passing math score (70 or greater) per school\n",
    "math_greater_70_per_school = students.loc[students[\"math_score\"] >= 70, :]\n",
    "group_math_greater_70_per_school = math_greater_70_per_school.groupby(\"school_name\") [\"math_score\"].count()\n",
    "math_passing_pecent_per_school_df = (group_math_greater_70_per_school / students_per_school) * 100\n",
    "#math_passing_pecent_per_school_df"
   ]
  },
  {
   "cell_type": "code",
   "execution_count": 22,
   "metadata": {},
   "outputs": [],
   "source": [
    "# calculate the percentage of students with a passing reading score (70 or greater) per school\n",
    "reading_greater_70_per_school = students.loc[students[\"reading_score\"] >= 70, :]\n",
    "group_reading_greater_70_per_school = reading_greater_70_per_school.groupby(\"school_name\") [\"reading_score\"].count()\n",
    "reading_passing_pecent_per_school_df = (group_reading_greater_70_per_school / students_per_school) * 100\n",
    "#reading_passing_pecent_per_school_df"
   ]
  },
  {
   "cell_type": "code",
   "execution_count": 23,
   "metadata": {},
   "outputs": [],
   "source": [
    "# calculate the percentage of students who passed math and reading (% Overall Passing) per school\n",
    "passing_math_reading_per_school = students.loc[(students[\"math_score\"] >= 70) & (students[\"reading_score\"] >= 70), :]\n",
    "group_passing_math_reading_per_school = passing_math_reading_per_school.groupby(\"school_name\") [\"school_name\"].count()\n",
    "overall_passing_percent_per_school_df = (group_passing_math_reading_per_school / students_per_school)*100\n",
    "#overall_passing_percent_per_school_df"
   ]
  },
  {
   "cell_type": "code",
   "execution_count": 24,
   "metadata": {},
   "outputs": [],
   "source": [
    "# Collect all require student marks df and place in a summary dataframe\n",
    "student_marks_summary_df = pd.DataFrame({\"Average Math Score\": average_math_score_df,\n",
    "                                         \"Average Reading Score\": average_reading_score_df,\n",
    "                                         \"% Passing Math\": math_passing_pecent_per_school_df,\n",
    "                                         \"% Passing Reading\": reading_passing_pecent_per_school_df,\n",
    "                                         \"% Overall Passing\": overall_passing_percent_per_school_df\n",
    "                                          }).reset_index()\n",
    "#student_marks_summary_df"
   ]
  },
  {
   "cell_type": "code",
   "execution_count": 25,
   "metadata": {},
   "outputs": [],
   "source": [
    "# merge the schools and the student marks summary for school summary output; along with viewable formats\n",
    "school_summary = pd.merge(schools, student_marks_summary_df, on=\"school_name\", how=\"left\")\n",
    "\n",
    "del school_summary[\"School ID\"]\n",
    "\n",
    "school_summary = school_summary.rename(columns={\"school_name\": \"School Name\", \n",
    "                                                \"type\": \"School Type\",\n",
    "                                                \"size\": \"Total Students\",\n",
    "                                                \"budget\": \"Total School Budget\"                                    \n",
    "                                                })\n",
    "\n",
    "school_summary[\"Total Students\"] = school_summary[\"Total Students\"].map('{:,.0f}'.format)\n",
    "school_summary[\"Total School Budget\"] = school_summary[\"Total School Budget\"].map('${:,.2f}'.format)\n",
    "school_summary[\"Per Student Budget\"] = school_summary[\"Per Student Budget\"].map('${:.2f}'.format)"
   ]
  },
  {
   "cell_type": "markdown",
   "metadata": {},
   "source": [
    "## School Summary"
   ]
  },
  {
   "cell_type": "code",
   "execution_count": 26,
   "metadata": {},
   "outputs": [],
   "source": [
    "#school_summary.head()"
   ]
  },
  {
   "cell_type": "code",
   "execution_count": 27,
   "metadata": {},
   "outputs": [],
   "source": [
    "# Top 5 Performing Schools (By % Overall Passing)\n",
    "school_summary_sort = school_summary.sort_values(\"% Overall Passing\", ascending=False).reset_index(drop=True)"
   ]
  },
  {
   "cell_type": "markdown",
   "metadata": {},
   "source": [
    "## Top 5 Performing Schools (By % Overall Passing)"
   ]
  },
  {
   "cell_type": "code",
   "execution_count": 28,
   "metadata": {
    "scrolled": true
   },
   "outputs": [],
   "source": [
    "#school_summary_sort.head()"
   ]
  },
  {
   "cell_type": "code",
   "execution_count": 29,
   "metadata": {},
   "outputs": [],
   "source": [
    "#Bottom 5 Performing Schools (By % Overall Passing)\n",
    "school_summary_sort = school_summary.sort_values(\"% Overall Passing\", ascending=True).reset_index(drop=True)"
   ]
  },
  {
   "cell_type": "markdown",
   "metadata": {},
   "source": [
    "## Bottom 5 Performing Schools (By % Overall Passing) "
   ]
  },
  {
   "cell_type": "code",
   "execution_count": 30,
   "metadata": {},
   "outputs": [],
   "source": [
    "#school_summary_sort.head()"
   ]
  },
  {
   "cell_type": "markdown",
   "metadata": {},
   "source": [
    "### Script for math scores by grade by school"
   ]
  },
  {
   "cell_type": "code",
   "execution_count": 31,
   "metadata": {},
   "outputs": [],
   "source": [
    "# Math Scores by Grade\n",
    "# Create a table that lists the average Math Score for students of each grade level (9th, 10th, 11th, 12th) at each school.\n",
    "grade9_math_scores = (students.loc[students[\"grade\"] == \"9th\"]).groupby(\"school_name\")[\"math_score\"].mean()\n",
    "grade10_math_scores = (students.loc[students[\"grade\"] == \"10th\"]).groupby(\"school_name\")[\"math_score\"].mean()\n",
    "grade11_math_scores = (students.loc[students[\"grade\"] == \"11th\"]).groupby(\"school_name\")[\"math_score\"].mean()\n",
    "grade12_math_scores = (students.loc[students[\"grade\"] == \"12th\"]).groupby(\"school_name\")[\"math_score\"].mean()\n",
    "#grade12_math_scores"
   ]
  },
  {
   "cell_type": "code",
   "execution_count": 32,
   "metadata": {},
   "outputs": [],
   "source": [
    "# Collect all require student math marks df by grade by school and place in a summary dataframe\n",
    "math_scores_per_grade_summary_df = pd.DataFrame({\"Grade 9 Math Avg\": grade9_math_scores,\n",
    "                                         \"Grade 10 Math Avg\": grade10_math_scores,\n",
    "                                         \"Grade 11 Math Avg\": grade11_math_scores,\n",
    "                                         \"Grade 12 Math Avg\": grade12_math_scores\n",
    "                                          }).reset_index()"
   ]
  },
  {
   "cell_type": "markdown",
   "metadata": {},
   "source": [
    "## Math Scores by Grade by Schools"
   ]
  },
  {
   "cell_type": "code",
   "execution_count": 33,
   "metadata": {},
   "outputs": [],
   "source": [
    "#math_scores_per_grade_summary_df"
   ]
  },
  {
   "cell_type": "markdown",
   "metadata": {},
   "source": [
    "### Script for reading scores by grade by school"
   ]
  },
  {
   "cell_type": "code",
   "execution_count": 34,
   "metadata": {},
   "outputs": [],
   "source": [
    "# Reading Scores by Grade\n",
    "# Create a table that lists the average Reading Score for students of each grade level (9th, 10th, 11th, 12th) at each school.\n",
    "grade9_reading_scores = (students.loc[students[\"grade\"] == \"9th\"]).groupby(\"school_name\")[\"reading_score\"].mean()\n",
    "grade10_reading_scores = (students.loc[students[\"grade\"] == \"10th\"]).groupby(\"school_name\")[\"reading_score\"].mean()\n",
    "grade11_reading_scores = (students.loc[students[\"grade\"] == \"11th\"]).groupby(\"school_name\")[\"reading_score\"].mean()\n",
    "grade12_reading_scores = (students.loc[students[\"grade\"] == \"12th\"]).groupby(\"school_name\")[\"reading_score\"].mean()\n",
    "#grade12_reading_scores"
   ]
  },
  {
   "cell_type": "code",
   "execution_count": 35,
   "metadata": {},
   "outputs": [],
   "source": [
    "# Collect all require student reading marks df by grade by school and place in a summary dataframe\n",
    "reading_scores_per_grade_summary_df = pd.DataFrame({\"Grade 9 Reading Avg\": grade9_reading_scores,\n",
    "                                         \"Grade 10 Avg Reading Avg\": grade10_reading_scores,\n",
    "                                         \"Grade 11 Avg Reading Avg\": grade11_reading_scores,\n",
    "                                         \"Grade 12 Avg Reading Avg\": grade12_reading_scores\n",
    "                                          }).reset_index()"
   ]
  },
  {
   "cell_type": "markdown",
   "metadata": {},
   "source": [
    "## Reading Scores by Grade by Schools"
   ]
  },
  {
   "cell_type": "code",
   "execution_count": 36,
   "metadata": {},
   "outputs": [],
   "source": [
    "#reading_scores_per_grade_summary_df"
   ]
  },
  {
   "cell_type": "markdown",
   "metadata": {},
   "source": [
    "### Binning to get scores by school spending"
   ]
  },
  {
   "cell_type": "code",
   "execution_count": 37,
   "metadata": {},
   "outputs": [],
   "source": [
    "# build another merge school summary dataframe for binning with excepted unformatted dtypes\n",
    "school_summary_binning = pd.merge(schools, student_marks_summary_df, on=\"school_name\", how=\"left\")\n",
    "del school_summary_binning[\"School ID\"]\n",
    "school_summary_binning = school_summary_binning.rename(columns={\"school_name\": \"School Name\", \n",
    "                                                \"type\": \"School Type\",\n",
    "                                                \"size\": \"Total Students\",\n",
    "                                                \"budget\": \"Total School Budget\"                                    \n",
    "                                                })\n",
    "#school_summary_binning"
   ]
  },
  {
   "cell_type": "code",
   "execution_count": 38,
   "metadata": {},
   "outputs": [
    {
     "name": "stdout",
     "output_type": "stream",
     "text": [
      "$578.00\n",
      "$655.00\n"
     ]
    }
   ],
   "source": [
    "# check range of values in column\n",
    "print(school_summary[\"Per Student Budget\"].min())\n",
    "print(school_summary[\"Per Student Budget\"].max())"
   ]
  },
  {
   "cell_type": "code",
   "execution_count": 39,
   "metadata": {},
   "outputs": [],
   "source": [
    "# create bins and labels as bins for scores based on spending ranges\n",
    "bins = [0, 580, 595, 610, 625, 640, 655]\n",
    "group_labels = [\"$0-$579\", \"$580-$594\", \"$595-$609\", \"$610-$624\", \"$625-$639\", \"$640-$656\"]"
   ]
  },
  {
   "cell_type": "code",
   "execution_count": 40,
   "metadata": {},
   "outputs": [
    {
     "data": {
      "text/plain": [
       "0    $625-$639\n",
       "1    $580-$594\n",
       "2    $625-$639\n",
       "3    $640-$656\n",
       "4    $610-$624\n",
       "Name: Per Student Budget, dtype: category\n",
       "Categories (6, object): [$0-$579 < $580-$594 < $595-$609 < $610-$624 < $625-$639 < $640-$656]"
      ]
     },
     "execution_count": 40,
     "metadata": {},
     "output_type": "execute_result"
    }
   ],
   "source": [
    "# cut Per Student Budget and place into bins\n",
    "pd.cut(school_summary_binning[\"Per Student Budget\"], bins, labels=group_labels).head()"
   ]
  },
  {
   "cell_type": "code",
   "execution_count": 41,
   "metadata": {},
   "outputs": [],
   "source": [
    "# Place the data series into a new column inside of the DataFrame\n",
    "school_summary_binning[\"Spending Ranges\"] = pd.cut(school_summary_binning[\"Per Student Budget\"], bins, labels=group_labels)\n",
    "#school_summary_binning"
   ]
  },
  {
   "cell_type": "code",
   "execution_count": 42,
   "metadata": {},
   "outputs": [],
   "source": [
    "# Create a GroupBy object based upon \"Spending Ranges\"\n",
    "school_summary_bin_group = school_summary_binning.groupby(\"Spending Ranges\")"
   ]
  },
  {
   "cell_type": "code",
   "execution_count": 43,
   "metadata": {},
   "outputs": [
    {
     "name": "stdout",
     "output_type": "stream",
     "text": [
      "Spending Ranges\n",
      "$0-$579      1\n",
      "$580-$594    3\n",
      "$595-$609    2\n",
      "$610-$624    1\n",
      "$625-$639    4\n",
      "$640-$656    4\n",
      "Name: Average Math Score, dtype: int64\n"
     ]
    }
   ],
   "source": [
    "# Find how many rows fall into each bin\n",
    "print(school_summary_bin_group[\"Average Math Score\"].count())"
   ]
  },
  {
   "cell_type": "code",
   "execution_count": 44,
   "metadata": {},
   "outputs": [],
   "source": [
    "# Get the average of each column within the GroupBy object\n",
    "spending_ranges = school_summary_bin_group[[\"Average Math Score\", \n",
    "                      \"Average Reading Score\", \n",
    "                      \"% Passing Math\", \n",
    "                      \"% Passing Reading\", \n",
    "                      \"% Overall Passing\"]].mean()"
   ]
  },
  {
   "cell_type": "markdown",
   "metadata": {},
   "source": [
    "## Scores by School Spending"
   ]
  },
  {
   "cell_type": "code",
   "execution_count": 45,
   "metadata": {},
   "outputs": [],
   "source": [
    "#spending_ranges"
   ]
  },
  {
   "cell_type": "markdown",
   "metadata": {},
   "source": [
    "### Binning to get scores by school size"
   ]
  },
  {
   "cell_type": "code",
   "execution_count": 46,
   "metadata": {},
   "outputs": [
    {
     "name": "stdout",
     "output_type": "stream",
     "text": [
      "427\n",
      "4976\n"
     ]
    }
   ],
   "source": [
    "# check range of values in column\n",
    "print(school_summary_binning[\"Total Students\"].min())\n",
    "print(school_summary_binning[\"Total Students\"].max())"
   ]
  },
  {
   "cell_type": "code",
   "execution_count": 47,
   "metadata": {},
   "outputs": [],
   "source": [
    "# create bins and labels as bins for scores based on school size\n",
    "bins = [0, 1000, 3000, 5000]\n",
    "group_labels = [\"Small (0-1000)\", \"Medium (1000-2500)\", \"Large (2500-5000)\"]"
   ]
  },
  {
   "cell_type": "code",
   "execution_count": 48,
   "metadata": {},
   "outputs": [
    {
     "data": {
      "text/plain": [
       "0     Large (2500-5000)\n",
       "1    Medium (1000-2500)\n",
       "2    Medium (1000-2500)\n",
       "3    Medium (1000-2500)\n",
       "4    Medium (1000-2500)\n",
       "Name: Total Students, dtype: category\n",
       "Categories (3, object): [Small (0-1000) < Medium (1000-2500) < Large (2500-5000)]"
      ]
     },
     "execution_count": 48,
     "metadata": {},
     "output_type": "execute_result"
    }
   ],
   "source": [
    "# cut Total Students and place into bins\n",
    "pd.cut(school_summary_binning[\"Total Students\"], bins, labels=group_labels).head()"
   ]
  },
  {
   "cell_type": "code",
   "execution_count": 49,
   "metadata": {},
   "outputs": [],
   "source": [
    "# Place the data series into a new column inside of the DataFrame\n",
    "school_summary_binning[\"School Size Ranges\"] = pd.cut(school_summary_binning[\"Total Students\"], bins, labels=group_labels)\n",
    "#school_summary_binning"
   ]
  },
  {
   "cell_type": "code",
   "execution_count": 50,
   "metadata": {},
   "outputs": [],
   "source": [
    "# Create a GroupBy object based upon \"School Size Ranges\"\n",
    "school_summary_bin_group = school_summary_binning.groupby(\"School Size Ranges\")"
   ]
  },
  {
   "cell_type": "code",
   "execution_count": 51,
   "metadata": {},
   "outputs": [
    {
     "name": "stdout",
     "output_type": "stream",
     "text": [
      "School Size Ranges\n",
      "Small (0-1000)        2\n",
      "Medium (1000-2500)    9\n",
      "Large (2500-5000)     4\n",
      "Name: Average Math Score, dtype: int64\n"
     ]
    }
   ],
   "source": [
    "# Find how many rows fall into each bin\n",
    "print(school_summary_bin_group[\"Average Math Score\"].count())"
   ]
  },
  {
   "cell_type": "code",
   "execution_count": 52,
   "metadata": {},
   "outputs": [],
   "source": [
    "# Get the average of each column within the GroupBy object\n",
    "school_size = school_summary_bin_group[[\"Average Math Score\", \n",
    "                      \"Average Reading Score\", \n",
    "                      \"% Passing Math\", \n",
    "                      \"% Passing Reading\", \n",
    "                      \"% Overall Passing\"]].mean()"
   ]
  },
  {
   "cell_type": "markdown",
   "metadata": {},
   "source": [
    "## Scores by School Size "
   ]
  },
  {
   "cell_type": "code",
   "execution_count": 53,
   "metadata": {},
   "outputs": [],
   "source": [
    "#school_size"
   ]
  },
  {
   "cell_type": "markdown",
   "metadata": {},
   "source": [
    "### Groupby to get scores by school types"
   ]
  },
  {
   "cell_type": "code",
   "execution_count": 54,
   "metadata": {},
   "outputs": [
    {
     "name": "stdout",
     "output_type": "stream",
     "text": [
      "['District' 'Charter']\n"
     ]
    }
   ],
   "source": [
    "# check for the different object values in column\n",
    "print(school_summary_binning[\"School Type\"].unique())"
   ]
  },
  {
   "cell_type": "code",
   "execution_count": 55,
   "metadata": {},
   "outputs": [],
   "source": [
    "scores_by_school_type = pd.DataFrame({\"Average Math Score\": school_summary_binning.groupby(\"School Type\") [\"Average Math Score\"].mean(), \n",
    "                                      \"Average Reading Score\": school_summary_binning.groupby(\"School Type\") [\"Average Reading Score\"].mean(),\n",
    "                                      \"% Passing Math\": pd.to_numeric(school_summary_binning[\"% Passing Math\"]).groupby(school_summary_binning[\"School Type\"]).mean(),\n",
    "                                      \"% Passing Reading\": pd.to_numeric(school_summary_binning[\"% Passing Reading\"]).groupby(school_summary_binning[\"School Type\"]).mean(),\n",
    "                                      \"% Overall Passing\": pd.to_numeric(school_summary_binning[\"% Overall Passing\"]).groupby(school_summary_binning[\"School Type\"]).mean()\n",
    "                                   })"
   ]
  },
  {
   "cell_type": "markdown",
   "metadata": {},
   "source": [
    "## Scores by School Types"
   ]
  },
  {
   "cell_type": "code",
   "execution_count": 56,
   "metadata": {},
   "outputs": [],
   "source": [
    "#scores_by_school_type"
   ]
  },
  {
   "cell_type": "code",
   "execution_count": null,
   "metadata": {},
   "outputs": [],
   "source": []
  }
 ],
 "metadata": {
  "kernelspec": {
   "display_name": "Python 3",
   "language": "python",
   "name": "python3"
  },
  "language_info": {
   "codemirror_mode": {
    "name": "ipython",
    "version": 3
   },
   "file_extension": ".py",
   "mimetype": "text/x-python",
   "name": "python",
   "nbconvert_exporter": "python",
   "pygments_lexer": "ipython3",
   "version": "3.8.3"
  }
 },
 "nbformat": 4,
 "nbformat_minor": 4
}
